{
 "cells": [
  {
   "cell_type": "code",
   "execution_count": 1,
   "id": "534869e6",
   "metadata": {
    "execution": {
     "iopub.execute_input": "2024-08-03T18:32:08.961705Z",
     "iopub.status.busy": "2024-08-03T18:32:08.960980Z",
     "iopub.status.idle": "2024-08-03T18:32:21.891150Z",
     "shell.execute_reply": "2024-08-03T18:32:21.890170Z"
    },
    "papermill": {
     "duration": 12.940815,
     "end_time": "2024-08-03T18:32:21.893452",
     "exception": false,
     "start_time": "2024-08-03T18:32:08.952637",
     "status": "completed"
    },
    "tags": []
   },
   "outputs": [
    {
     "name": "stdout",
     "output_type": "stream",
     "text": [
      "Collecting lightgbm\r\n"
     ]
    },
    {
     "name": "stdout",
     "output_type": "stream",
     "text": [
      "  Downloading lightgbm-4.5.0-py3-none-manylinux_2_28_x86_64.whl (3.6 MB)\r\n",
      "\u001b[?25l     \u001b[90m━━━━━━━━━━━━━━━━━━━━━━━━━━━━━━━━━━━━━━━━\u001b[0m \u001b[32m0.0/3.6 MB\u001b[0m \u001b[31m?\u001b[0m eta \u001b[36m-:--:--\u001b[0m\r",
      "\u001b[2K     \u001b[90m━━━━━━━━━━━━━━━━━━━━━━━━━━━━━━━━━━━━━━━━\u001b[0m \u001b[32m0.0/3.6 MB\u001b[0m \u001b[31m1.6 MB/s\u001b[0m eta \u001b[36m0:00:03\u001b[0m"
     ]
    },
    {
     "name": "stdout",
     "output_type": "stream",
     "text": [
      "\r",
      "\u001b[2K     \u001b[91m━\u001b[0m\u001b[90m╺\u001b[0m\u001b[90m━━━━━━━━━━━━━━━━━━━━━━━━━━━━━━━━━━━━━━\u001b[0m \u001b[32m0.1/3.6 MB\u001b[0m \u001b[31m1.4 MB/s\u001b[0m eta \u001b[36m0:00:03\u001b[0m"
     ]
    },
    {
     "name": "stdout",
     "output_type": "stream",
     "text": [
      "\r",
      "\u001b[2K     \u001b[91m━━\u001b[0m\u001b[91m╸\u001b[0m\u001b[90m━━━━━━━━━━━━━━━━━━━━━━━━━━━━━━━━━━━━━\u001b[0m \u001b[32m0.2/3.6 MB\u001b[0m \u001b[31m2.4 MB/s\u001b[0m eta \u001b[36m0:00:02\u001b[0m\r",
      "\u001b[2K     \u001b[91m━━━━━\u001b[0m\u001b[90m╺\u001b[0m\u001b[90m━━━━━━━━━━━━━━━━━━━━━━━━━━━━━━━━━━\u001b[0m \u001b[32m0.5/3.6 MB\u001b[0m \u001b[31m3.3 MB/s\u001b[0m eta \u001b[36m0:00:01\u001b[0m"
     ]
    },
    {
     "name": "stdout",
     "output_type": "stream",
     "text": [
      "\r",
      "\u001b[2K     \u001b[91m━━━━━━━━━\u001b[0m\u001b[90m╺\u001b[0m\u001b[90m━━━━━━━━━━━━━━━━━━━━━━━━━━━━━━\u001b[0m \u001b[32m0.8/3.6 MB\u001b[0m \u001b[31m4.7 MB/s\u001b[0m eta \u001b[36m0:00:01\u001b[0m"
     ]
    },
    {
     "name": "stdout",
     "output_type": "stream",
     "text": [
      "\r",
      "\u001b[2K     \u001b[91m━━━━━━━━━━━━━━━━\u001b[0m\u001b[90m╺\u001b[0m\u001b[90m━━━━━━━━━━━━━━━━━━━━━━━\u001b[0m \u001b[32m1.4/3.6 MB\u001b[0m \u001b[31m7.0 MB/s\u001b[0m eta \u001b[36m0:00:01\u001b[0m"
     ]
    },
    {
     "name": "stdout",
     "output_type": "stream",
     "text": [
      "\r",
      "\u001b[2K     \u001b[91m━━━━━━━━━━━━━━━━━━━━━━━━━━━\u001b[0m\u001b[91m╸\u001b[0m\u001b[90m━━━━━━━━━━━━\u001b[0m \u001b[32m2.5/3.6 MB\u001b[0m \u001b[31m10.2 MB/s\u001b[0m eta \u001b[36m0:00:01\u001b[0m\r",
      "\u001b[2K     \u001b[91m━━━━━━━━━━━━━━━━━━━━━━━━━━━━━━━━━━━━━━━\u001b[0m\u001b[91m╸\u001b[0m \u001b[32m3.5/3.6 MB\u001b[0m \u001b[31m13.9 MB/s\u001b[0m eta \u001b[36m0:00:01\u001b[0m\r",
      "\u001b[2K     \u001b[90m━━━━━━━━━━━━━━━━━━━━━━━━━━━━━━━━━━━━━━━━\u001b[0m \u001b[32m3.6/3.6 MB\u001b[0m \u001b[31m12.6 MB/s\u001b[0m eta \u001b[36m0:00:00\u001b[0m\r\n",
      "\u001b[?25h"
     ]
    },
    {
     "name": "stdout",
     "output_type": "stream",
     "text": [
      "Collecting xgboost\r\n"
     ]
    },
    {
     "name": "stdout",
     "output_type": "stream",
     "text": [
      "  Downloading xgboost-2.1.1-py3-none-manylinux_2_28_x86_64.whl (153.9 MB)\r\n",
      "\u001b[?25l     \u001b[90m━━━━━━━━━━━━━━━━━━━━━━━━━━━━━━━━━━━━━━━━\u001b[0m \u001b[32m0.0/153.9 MB\u001b[0m \u001b[31m?\u001b[0m eta \u001b[36m-:--:--\u001b[0m"
     ]
    },
    {
     "name": "stdout",
     "output_type": "stream",
     "text": [
      "\r",
      "\u001b[2K     \u001b[91m╸\u001b[0m\u001b[90m━━━━━━━━━━━━━━━━━━━━━━━━━━━━━━━━━━━━━━\u001b[0m \u001b[32m3.1/153.9 MB\u001b[0m \u001b[31m160.3 MB/s\u001b[0m eta \u001b[36m0:00:01\u001b[0m\r",
      "\u001b[2K     \u001b[91m━\u001b[0m\u001b[90m╺\u001b[0m\u001b[90m━━━━━━━━━━━━━━━━━━━━━━━━━━━━━━━━━━━━━\u001b[0m \u001b[32m5.7/153.9 MB\u001b[0m \u001b[31m103.2 MB/s\u001b[0m eta \u001b[36m0:00:02\u001b[0m"
     ]
    },
    {
     "name": "stdout",
     "output_type": "stream",
     "text": [
      "\r",
      "\u001b[2K     \u001b[91m━━\u001b[0m\u001b[90m╺\u001b[0m\u001b[90m━━━━━━━━━━━━━━━━━━━━━━━━━━━━━━━━━━━━━\u001b[0m \u001b[32m8.7/153.9 MB\u001b[0m \u001b[31m89.2 MB/s\u001b[0m eta \u001b[36m0:00:02\u001b[0m"
     ]
    },
    {
     "name": "stdout",
     "output_type": "stream",
     "text": [
      "\r",
      "\u001b[2K     \u001b[91m━━\u001b[0m\u001b[91m╸\u001b[0m\u001b[90m━━━━━━━━━━━━━━━━━━━━━━━━━━━━━━━━━━━━\u001b[0m \u001b[32m11.5/153.9 MB\u001b[0m \u001b[31m78.5 MB/s\u001b[0m eta \u001b[36m0:00:02\u001b[0m"
     ]
    },
    {
     "name": "stdout",
     "output_type": "stream",
     "text": [
      "\r",
      "\u001b[2K     \u001b[91m━━━\u001b[0m\u001b[90m╺\u001b[0m\u001b[90m━━━━━━━━━━━━━━━━━━━━━━━━━━━━━━━━━━━\u001b[0m \u001b[32m13.7/153.9 MB\u001b[0m \u001b[31m77.7 MB/s\u001b[0m eta \u001b[36m0:00:02\u001b[0m\r",
      "\u001b[2K     \u001b[91m━━━\u001b[0m\u001b[91m╸\u001b[0m\u001b[90m━━━━━━━━━━━━━━━━━━━━━━━━━━━━━━━━━━━\u001b[0m \u001b[32m15.4/153.9 MB\u001b[0m \u001b[31m65.0 MB/s\u001b[0m eta \u001b[36m0:00:03\u001b[0m"
     ]
    },
    {
     "name": "stdout",
     "output_type": "stream",
     "text": [
      "\r",
      "\u001b[2K     \u001b[91m━━━━\u001b[0m\u001b[91m╸\u001b[0m\u001b[90m━━━━━━━━━━━━━━━━━━━━━━━━━━━━━━━━━━\u001b[0m \u001b[32m18.1/153.9 MB\u001b[0m \u001b[31m66.0 MB/s\u001b[0m eta \u001b[36m0:00:03\u001b[0m"
     ]
    },
    {
     "name": "stdout",
     "output_type": "stream",
     "text": [
      "\r",
      "\u001b[2K     \u001b[91m━━━━━\u001b[0m\u001b[90m╺\u001b[0m\u001b[90m━━━━━━━━━━━━━━━━━━━━━━━━━━━━━━━━━\u001b[0m \u001b[32m19.9/153.9 MB\u001b[0m \u001b[31m64.9 MB/s\u001b[0m eta \u001b[36m0:00:03\u001b[0m\r",
      "\u001b[2K     \u001b[91m━━━━━\u001b[0m\u001b[91m╸\u001b[0m\u001b[90m━━━━━━━━━━━━━━━━━━━━━━━━━━━━━━━━━\u001b[0m \u001b[32m22.4/153.9 MB\u001b[0m \u001b[31m75.6 MB/s\u001b[0m eta \u001b[36m0:00:02\u001b[0m"
     ]
    },
    {
     "name": "stdout",
     "output_type": "stream",
     "text": [
      "\r",
      "\u001b[2K     \u001b[91m━━━━━━\u001b[0m\u001b[90m╺\u001b[0m\u001b[90m━━━━━━━━━━━━━━━━━━━━━━━━━━━━━━━━\u001b[0m \u001b[32m25.3/153.9 MB\u001b[0m \u001b[31m75.4 MB/s\u001b[0m eta \u001b[36m0:00:02\u001b[0m"
     ]
    },
    {
     "name": "stdout",
     "output_type": "stream",
     "text": [
      "\r",
      "\u001b[2K     \u001b[91m━━━━━━━\u001b[0m\u001b[90m╺\u001b[0m\u001b[90m━━━━━━━━━━━━━━━━━━━━━━━━━━━━━━━\u001b[0m \u001b[32m28.0/153.9 MB\u001b[0m \u001b[31m76.1 MB/s\u001b[0m eta \u001b[36m0:00:02\u001b[0m\r",
      "\u001b[2K     \u001b[91m━━━━━━━\u001b[0m\u001b[91m╸\u001b[0m\u001b[90m━━━━━━━━━━━━━━━━━━━━━━━━━━━━━━━\u001b[0m \u001b[32m30.9/153.9 MB\u001b[0m \u001b[31m78.8 MB/s\u001b[0m eta \u001b[36m0:00:02\u001b[0m"
     ]
    },
    {
     "name": "stdout",
     "output_type": "stream",
     "text": [
      "\r",
      "\u001b[2K     \u001b[91m━━━━━━━━\u001b[0m\u001b[91m╸\u001b[0m\u001b[90m━━━━━━━━━━━━━━━━━━━━━━━━━━━━━━\u001b[0m \u001b[32m33.9/153.9 MB\u001b[0m \u001b[31m78.6 MB/s\u001b[0m eta \u001b[36m0:00:02\u001b[0m"
     ]
    },
    {
     "name": "stdout",
     "output_type": "stream",
     "text": [
      "\r",
      "\u001b[2K     \u001b[91m━━━━━━━━━\u001b[0m\u001b[90m╺\u001b[0m\u001b[90m━━━━━━━━━━━━━━━━━━━━━━━━━━━━━\u001b[0m \u001b[32m36.3/153.9 MB\u001b[0m \u001b[31m78.1 MB/s\u001b[0m eta \u001b[36m0:00:02\u001b[0m"
     ]
    },
    {
     "name": "stdout",
     "output_type": "stream",
     "text": [
      "\r",
      "\u001b[2K     \u001b[91m━━━━━━━━━\u001b[0m\u001b[91m╸\u001b[0m\u001b[90m━━━━━━━━━━━━━━━━━━━━━━━━━━━━━\u001b[0m \u001b[32m38.3/153.9 MB\u001b[0m \u001b[31m78.2 MB/s\u001b[0m eta \u001b[36m0:00:02\u001b[0m\r",
      "\u001b[2K     \u001b[91m━━━━━━━━━━\u001b[0m\u001b[90m╺\u001b[0m\u001b[90m━━━━━━━━━━━━━━━━━━━━━━━━━━━━\u001b[0m \u001b[32m40.2/153.9 MB\u001b[0m \u001b[31m66.5 MB/s\u001b[0m eta \u001b[36m0:00:02\u001b[0m"
     ]
    },
    {
     "name": "stdout",
     "output_type": "stream",
     "text": [
      "\r",
      "\u001b[2K     \u001b[91m━━━━━━━━━━\u001b[0m\u001b[91m╸\u001b[0m\u001b[90m━━━━━━━━━━━━━━━━━━━━━━━━━━━━\u001b[0m \u001b[32m42.4/153.9 MB\u001b[0m \u001b[31m77.6 MB/s\u001b[0m eta \u001b[36m0:00:02\u001b[0m"
     ]
    },
    {
     "name": "stdout",
     "output_type": "stream",
     "text": [
      "\r",
      "\u001b[2K     \u001b[91m━━━━━━━━━━━\u001b[0m\u001b[90m╺\u001b[0m\u001b[90m━━━━━━━━━━━━━━━━━━━━━━━━━━━\u001b[0m \u001b[32m45.3/153.9 MB\u001b[0m \u001b[31m77.2 MB/s\u001b[0m eta \u001b[36m0:00:02\u001b[0m\r",
      "\u001b[2K     \u001b[91m━━━━━━━━━━━━\u001b[0m\u001b[90m╺\u001b[0m\u001b[90m━━━━━━━━━━━━━━━━━━━━━━━━━━\u001b[0m \u001b[32m48.3/153.9 MB\u001b[0m \u001b[31m77.7 MB/s\u001b[0m eta \u001b[36m0:00:02\u001b[0m"
     ]
    },
    {
     "name": "stdout",
     "output_type": "stream",
     "text": [
      "\r",
      "\u001b[2K     \u001b[91m━━━━━━━━━━━━\u001b[0m\u001b[91m╸\u001b[0m\u001b[90m━━━━━━━━━━━━━━━━━━━━━━━━━━\u001b[0m \u001b[32m51.3/153.9 MB\u001b[0m \u001b[31m79.4 MB/s\u001b[0m eta \u001b[36m0:00:02\u001b[0m"
     ]
    },
    {
     "name": "stdout",
     "output_type": "stream",
     "text": [
      "\r",
      "\u001b[2K     \u001b[91m━━━━━━━━━━━━━\u001b[0m\u001b[91m╸\u001b[0m\u001b[90m━━━━━━━━━━━━━━━━━━━━━━━━━\u001b[0m \u001b[32m54.3/153.9 MB\u001b[0m \u001b[31m79.1 MB/s\u001b[0m eta \u001b[36m0:00:02\u001b[0m\r",
      "\u001b[2K     \u001b[91m━━━━━━━━━━━━━━\u001b[0m\u001b[90m╺\u001b[0m\u001b[90m━━━━━━━━━━━━━━━━━━━━━━━━\u001b[0m \u001b[32m56.5/153.9 MB\u001b[0m \u001b[31m79.3 MB/s\u001b[0m eta \u001b[36m0:00:02\u001b[0m"
     ]
    },
    {
     "name": "stdout",
     "output_type": "stream",
     "text": [
      "\r",
      "\u001b[2K     \u001b[91m━━━━━━━━━━━━━━\u001b[0m\u001b[91m╸\u001b[0m\u001b[90m━━━━━━━━━━━━━━━━━━━━━━━━\u001b[0m \u001b[32m58.6/153.9 MB\u001b[0m \u001b[31m78.3 MB/s\u001b[0m eta \u001b[36m0:00:02\u001b[0m"
     ]
    },
    {
     "name": "stdout",
     "output_type": "stream",
     "text": [
      "\r",
      "\u001b[2K     \u001b[91m━━━━━━━━━━━━━━━\u001b[0m\u001b[90m╺\u001b[0m\u001b[90m━━━━━━━━━━━━━━━━━━━━━━━\u001b[0m \u001b[32m60.8/153.9 MB\u001b[0m \u001b[31m67.7 MB/s\u001b[0m eta \u001b[36m0:00:02\u001b[0m"
     ]
    },
    {
     "name": "stdout",
     "output_type": "stream",
     "text": [
      "\r",
      "\u001b[2K     \u001b[91m━━━━━━━━━━━━━━━\u001b[0m\u001b[91m╸\u001b[0m\u001b[90m━━━━━━━━━━━━━━━━━━━━━━━\u001b[0m \u001b[32m63.0/153.9 MB\u001b[0m \u001b[31m78.5 MB/s\u001b[0m eta \u001b[36m0:00:02\u001b[0m\r",
      "\u001b[2K     \u001b[91m━━━━━━━━━━━━━━━━\u001b[0m\u001b[91m╸\u001b[0m\u001b[90m━━━━━━━━━━━━━━━━━━━━━━\u001b[0m \u001b[32m65.9/153.9 MB\u001b[0m \u001b[31m78.1 MB/s\u001b[0m eta \u001b[36m0:00:02\u001b[0m"
     ]
    },
    {
     "name": "stdout",
     "output_type": "stream",
     "text": [
      "\r",
      "\u001b[2K     \u001b[91m━━━━━━━━━━━━━━━━━\u001b[0m\u001b[90m╺\u001b[0m\u001b[90m━━━━━━━━━━━━━━━━━━━━━\u001b[0m \u001b[32m68.7/153.9 MB\u001b[0m \u001b[31m77.6 MB/s\u001b[0m eta \u001b[36m0:00:02\u001b[0m"
     ]
    },
    {
     "name": "stdout",
     "output_type": "stream",
     "text": [
      "\r",
      "\u001b[2K     \u001b[91m━━━━━━━━━━━━━━━━━━\u001b[0m\u001b[90m╺\u001b[0m\u001b[90m━━━━━━━━━━━━━━━━━━━━\u001b[0m \u001b[32m71.7/153.9 MB\u001b[0m \u001b[31m78.3 MB/s\u001b[0m eta \u001b[36m0:00:02\u001b[0m\r",
      "\u001b[2K     \u001b[91m━━━━━━━━━━━━━━━━━━\u001b[0m\u001b[91m╸\u001b[0m\u001b[90m━━━━━━━━━━━━━━━━━━━━\u001b[0m \u001b[32m74.6/153.9 MB\u001b[0m \u001b[31m78.2 MB/s\u001b[0m eta \u001b[36m0:00:02\u001b[0m"
     ]
    },
    {
     "name": "stdout",
     "output_type": "stream",
     "text": [
      "\r",
      "\u001b[2K     \u001b[91m━━━━━━━━━━━━━━━━━━━\u001b[0m\u001b[90m╺\u001b[0m\u001b[90m━━━━━━━━━━━━━━━━━━━\u001b[0m \u001b[32m76.7/153.9 MB\u001b[0m \u001b[31m77.8 MB/s\u001b[0m eta \u001b[36m0:00:01\u001b[0m"
     ]
    },
    {
     "name": "stdout",
     "output_type": "stream",
     "text": [
      "\r",
      "\u001b[2K     \u001b[91m━━━━━━━━━━━━━━━━━━━━\u001b[0m\u001b[90m╺\u001b[0m\u001b[90m━━━━━━━━━━━━━━━━━━\u001b[0m \u001b[32m79.0/153.9 MB\u001b[0m \u001b[31m78.6 MB/s\u001b[0m eta \u001b[36m0:00:01\u001b[0m\r",
      "\u001b[2K     \u001b[91m━━━━━━━━━━━━━━━━━━━━\u001b[0m\u001b[91m╸\u001b[0m\u001b[90m━━━━━━━━━━━━━━━━━━\u001b[0m \u001b[32m81.1/153.9 MB\u001b[0m \u001b[31m67.6 MB/s\u001b[0m eta \u001b[36m0:00:02\u001b[0m"
     ]
    },
    {
     "name": "stdout",
     "output_type": "stream",
     "text": [
      "\r",
      "\u001b[2K     \u001b[91m━━━━━━━━━━━━━━━━━━━━━\u001b[0m\u001b[90m╺\u001b[0m\u001b[90m━━━━━━━━━━━━━━━━━\u001b[0m \u001b[32m83.4/153.9 MB\u001b[0m \u001b[31m77.6 MB/s\u001b[0m eta \u001b[36m0:00:01\u001b[0m"
     ]
    },
    {
     "name": "stdout",
     "output_type": "stream",
     "text": [
      "\r",
      "\u001b[2K     \u001b[91m━━━━━━━━━━━━━━━━━━━━━\u001b[0m\u001b[91m╸\u001b[0m\u001b[90m━━━━━━━━━━━━━━━━━\u001b[0m \u001b[32m86.5/153.9 MB\u001b[0m \u001b[31m78.8 MB/s\u001b[0m eta \u001b[36m0:00:01\u001b[0m\r",
      "\u001b[2K     \u001b[91m━━━━━━━━━━━━━━━━━━━━━━\u001b[0m\u001b[91m╸\u001b[0m\u001b[90m━━━━━━━━━━━━━━━━\u001b[0m \u001b[32m89.5/153.9 MB\u001b[0m \u001b[31m78.9 MB/s\u001b[0m eta \u001b[36m0:00:01\u001b[0m"
     ]
    },
    {
     "name": "stdout",
     "output_type": "stream",
     "text": [
      "\r",
      "\u001b[2K     \u001b[91m━━━━━━━━━━━━━━━━━━━━━━━\u001b[0m\u001b[90m╺\u001b[0m\u001b[90m━━━━━━━━━━━━━━━\u001b[0m \u001b[32m92.4/153.9 MB\u001b[0m \u001b[31m78.5 MB/s\u001b[0m eta \u001b[36m0:00:01\u001b[0m"
     ]
    },
    {
     "name": "stdout",
     "output_type": "stream",
     "text": [
      "\r",
      "\u001b[2K     \u001b[91m━━━━━━━━━━━━━━━━━━━━━━━━\u001b[0m\u001b[90m╺\u001b[0m\u001b[90m━━━━━━━━━━━━━━\u001b[0m \u001b[32m95.0/153.9 MB\u001b[0m \u001b[31m79.2 MB/s\u001b[0m eta \u001b[36m0:00:01\u001b[0m"
     ]
    },
    {
     "name": "stdout",
     "output_type": "stream",
     "text": [
      "\r",
      "\u001b[2K     \u001b[91m━━━━━━━━━━━━━━━━━━━━━━━━\u001b[0m\u001b[91m╸\u001b[0m\u001b[90m━━━━━━━━━━━━━━\u001b[0m \u001b[32m97.0/153.9 MB\u001b[0m \u001b[31m77.3 MB/s\u001b[0m eta \u001b[36m0:00:01\u001b[0m\r",
      "\u001b[2K     \u001b[91m━━━━━━━━━━━━━━━━━━━━━━━━━\u001b[0m\u001b[90m╺\u001b[0m\u001b[90m━━━━━━━━━━━━━\u001b[0m \u001b[32m99.5/153.9 MB\u001b[0m \u001b[31m68.0 MB/s\u001b[0m eta \u001b[36m0:00:01\u001b[0m"
     ]
    },
    {
     "name": "stdout",
     "output_type": "stream",
     "text": [
      "\r",
      "\u001b[2K     \u001b[91m━━━━━━━━━━━━━━━━━━━━━━━━━\u001b[0m\u001b[90m╺\u001b[0m\u001b[90m━━━━━━━━━━━━\u001b[0m \u001b[32m101.8/153.9 MB\u001b[0m \u001b[31m68.4 MB/s\u001b[0m eta \u001b[36m0:00:01\u001b[0m"
     ]
    },
    {
     "name": "stdout",
     "output_type": "stream",
     "text": [
      "\r",
      "\u001b[2K     \u001b[91m━━━━━━━━━━━━━━━━━━━━━━━━━\u001b[0m\u001b[91m╸\u001b[0m\u001b[90m━━━━━━━━━━━━\u001b[0m \u001b[32m104.1/153.9 MB\u001b[0m \u001b[31m77.3 MB/s\u001b[0m eta \u001b[36m0:00:01\u001b[0m\r",
      "\u001b[2K     \u001b[91m━━━━━━━━━━━━━━━━━━━━━━━━━━\u001b[0m\u001b[90m╺\u001b[0m\u001b[90m━━━━━━━━━━━\u001b[0m \u001b[32m107.0/153.9 MB\u001b[0m \u001b[31m78.1 MB/s\u001b[0m eta \u001b[36m0:00:01\u001b[0m"
     ]
    },
    {
     "name": "stdout",
     "output_type": "stream",
     "text": [
      "\r",
      "\u001b[2K     \u001b[91m━━━━━━━━━━━━━━━━━━━━━━━━━━━\u001b[0m\u001b[90m╺\u001b[0m\u001b[90m━━━━━━━━━━\u001b[0m \u001b[32m110.0/153.9 MB\u001b[0m \u001b[31m78.5 MB/s\u001b[0m eta \u001b[36m0:00:01\u001b[0m"
     ]
    },
    {
     "name": "stdout",
     "output_type": "stream",
     "text": [
      "\r",
      "\u001b[2K     \u001b[91m━━━━━━━━━━━━━━━━━━━━━━━━━━━\u001b[0m\u001b[91m╸\u001b[0m\u001b[90m━━━━━━━━━━\u001b[0m \u001b[32m112.8/153.9 MB\u001b[0m \u001b[31m76.6 MB/s\u001b[0m eta \u001b[36m0:00:01\u001b[0m\r",
      "\u001b[2K     \u001b[91m━━━━━━━━━━━━━━━━━━━━━━━━━━━━\u001b[0m\u001b[90m╺\u001b[0m\u001b[90m━━━━━━━━━\u001b[0m \u001b[32m115.2/153.9 MB\u001b[0m \u001b[31m77.4 MB/s\u001b[0m eta \u001b[36m0:00:01\u001b[0m"
     ]
    },
    {
     "name": "stdout",
     "output_type": "stream",
     "text": [
      "\r",
      "\u001b[2K     \u001b[91m━━━━━━━━━━━━━━━━━━━━━━━━━━━━━\u001b[0m\u001b[90m╺\u001b[0m\u001b[90m━━━━━━━━\u001b[0m \u001b[32m117.5/153.9 MB\u001b[0m \u001b[31m77.1 MB/s\u001b[0m eta \u001b[36m0:00:01\u001b[0m"
     ]
    },
    {
     "name": "stdout",
     "output_type": "stream",
     "text": [
      "\r",
      "\u001b[2K     \u001b[91m━━━━━━━━━━━━━━━━━━━━━━━━━━━━━\u001b[0m\u001b[91m╸\u001b[0m\u001b[90m━━━━━━━━\u001b[0m \u001b[32m120.0/153.9 MB\u001b[0m \u001b[31m68.8 MB/s\u001b[0m eta \u001b[36m0:00:01\u001b[0m\r",
      "\u001b[2K     \u001b[91m━━━━━━━━━━━━━━━━━━━━━━━━━━━━━━\u001b[0m\u001b[90m╺\u001b[0m\u001b[90m━━━━━━━\u001b[0m \u001b[32m122.6/153.9 MB\u001b[0m \u001b[31m70.7 MB/s\u001b[0m eta \u001b[36m0:00:01\u001b[0m"
     ]
    },
    {
     "name": "stdout",
     "output_type": "stream",
     "text": [
      "\r",
      "\u001b[2K     \u001b[91m━━━━━━━━━━━━━━━━━━━━━━━━━━━━━━\u001b[0m\u001b[91m╸\u001b[0m\u001b[90m━━━━━━━\u001b[0m \u001b[32m125.1/153.9 MB\u001b[0m \u001b[31m77.6 MB/s\u001b[0m eta \u001b[36m0:00:01\u001b[0m"
     ]
    },
    {
     "name": "stdout",
     "output_type": "stream",
     "text": [
      "\r",
      "\u001b[2K     \u001b[91m━━━━━━━━━━━━━━━━━━━━━━━━━━━━━━━\u001b[0m\u001b[91m╸\u001b[0m\u001b[90m━━━━━━\u001b[0m \u001b[32m128.1/153.9 MB\u001b[0m \u001b[31m78.6 MB/s\u001b[0m eta \u001b[36m0:00:01\u001b[0m"
     ]
    },
    {
     "name": "stdout",
     "output_type": "stream",
     "text": [
      "\r",
      "\u001b[2K     \u001b[91m━━━━━━━━━━━━━━━━━━━━━━━━━━━━━━━━\u001b[0m\u001b[90m╺\u001b[0m\u001b[90m━━━━━\u001b[0m \u001b[32m131.1/153.9 MB\u001b[0m \u001b[31m78.2 MB/s\u001b[0m eta \u001b[36m0:00:01\u001b[0m\r",
      "\u001b[2K     \u001b[91m━━━━━━━━━━━━━━━━━━━━━━━━━━━━━━━━━\u001b[0m\u001b[90m╺\u001b[0m\u001b[90m━━━━\u001b[0m \u001b[32m133.8/153.9 MB\u001b[0m \u001b[31m78.7 MB/s\u001b[0m eta \u001b[36m0:00:01\u001b[0m"
     ]
    },
    {
     "name": "stdout",
     "output_type": "stream",
     "text": [
      "\r",
      "\u001b[2K     \u001b[91m━━━━━━━━━━━━━━━━━━━━━━━━━━━━━━━━━\u001b[0m\u001b[91m╸\u001b[0m\u001b[90m━━━━\u001b[0m \u001b[32m136.0/153.9 MB\u001b[0m \u001b[31m76.6 MB/s\u001b[0m eta \u001b[36m0:00:01\u001b[0m"
     ]
    },
    {
     "name": "stdout",
     "output_type": "stream",
     "text": [
      "\r",
      "\u001b[2K     \u001b[91m━━━━━━━━━━━━━━━━━━━━━━━━━━━━━━━━━━\u001b[0m\u001b[90m╺\u001b[0m\u001b[90m━━━\u001b[0m \u001b[32m138.3/153.9 MB\u001b[0m \u001b[31m75.8 MB/s\u001b[0m eta \u001b[36m0:00:01\u001b[0m\r",
      "\u001b[2K     \u001b[91m━━━━━━━━━━━━━━━━━━━━━━━━━━━━━━━━━━\u001b[0m\u001b[91m╸\u001b[0m\u001b[90m━━━\u001b[0m \u001b[32m140.7/153.9 MB\u001b[0m \u001b[31m70.0 MB/s\u001b[0m eta \u001b[36m0:00:01\u001b[0m"
     ]
    },
    {
     "name": "stdout",
     "output_type": "stream",
     "text": [
      "\r",
      "\u001b[2K     \u001b[91m━━━━━━━━━━━━━━━━━━━━━━━━━━━━━━━━━━━\u001b[0m\u001b[90m╺\u001b[0m\u001b[90m━━\u001b[0m \u001b[32m143.4/153.9 MB\u001b[0m \u001b[31m70.4 MB/s\u001b[0m eta \u001b[36m0:00:01\u001b[0m"
     ]
    },
    {
     "name": "stdout",
     "output_type": "stream",
     "text": [
      "\r",
      "\u001b[2K     \u001b[91m━━━━━━━━━━━━━━━━━━━━━━━━━━━━━━━━━━━━\u001b[0m\u001b[90m╺\u001b[0m\u001b[90m━\u001b[0m \u001b[32m146.0/153.9 MB\u001b[0m \u001b[31m77.5 MB/s\u001b[0m eta \u001b[36m0:00:01\u001b[0m\r",
      "\u001b[2K     \u001b[91m━━━━━━━━━━━━━━━━━━━━━━━━━━━━━━━━━━━━\u001b[0m\u001b[91m╸\u001b[0m\u001b[90m━\u001b[0m \u001b[32m148.9/153.9 MB\u001b[0m \u001b[31m78.4 MB/s\u001b[0m eta \u001b[36m0:00:01\u001b[0m"
     ]
    },
    {
     "name": "stdout",
     "output_type": "stream",
     "text": [
      "\r",
      "\u001b[2K     \u001b[91m━━━━━━━━━━━━━━━━━━━━━━━━━━━━━━━━━━━━━\u001b[0m\u001b[91m╸\u001b[0m \u001b[32m151.9/153.9 MB\u001b[0m \u001b[31m78.0 MB/s\u001b[0m eta \u001b[36m0:00:01\u001b[0m"
     ]
    },
    {
     "name": "stdout",
     "output_type": "stream",
     "text": [
      "\r",
      "\u001b[2K     \u001b[91m━━━━━━━━━━━━━━━━━━━━━━━━━━━━━━━━━━━━━\u001b[0m\u001b[91m╸\u001b[0m \u001b[32m153.9/153.9 MB\u001b[0m \u001b[31m76.3 MB/s\u001b[0m eta \u001b[36m0:00:01\u001b[0m"
     ]
    },
    {
     "name": "stdout",
     "output_type": "stream",
     "text": [
      "\r",
      "\u001b[2K     \u001b[91m━━━━━━━━━━━━━━━━━━━━━━━━━━━━━━━━━━━━━\u001b[0m\u001b[91m╸\u001b[0m \u001b[32m153.9/153.9 MB\u001b[0m \u001b[31m76.3 MB/s\u001b[0m eta \u001b[36m0:00:01\u001b[0m"
     ]
    },
    {
     "name": "stdout",
     "output_type": "stream",
     "text": [
      "\r",
      "\u001b[2K     \u001b[91m━━━━━━━━━━━━━━━━━━━━━━━━━━━━━━━━━━━━━\u001b[0m\u001b[91m╸\u001b[0m \u001b[32m153.9/153.9 MB\u001b[0m \u001b[31m76.3 MB/s\u001b[0m eta \u001b[36m0:00:01\u001b[0m\r",
      "\u001b[2K     \u001b[91m━━━━━━━━━━━━━━━━━━━━━━━━━━━━━━━━━━━━━\u001b[0m\u001b[91m╸\u001b[0m \u001b[32m153.9/153.9 MB\u001b[0m \u001b[31m76.3 MB/s\u001b[0m eta \u001b[36m0:00:01\u001b[0m"
     ]
    },
    {
     "name": "stdout",
     "output_type": "stream",
     "text": [
      "\r",
      "\u001b[2K     \u001b[91m━━━━━━━━━━━━━━━━━━━━━━━━━━━━━━━━━━━━━\u001b[0m\u001b[91m╸\u001b[0m \u001b[32m153.9/153.9 MB\u001b[0m \u001b[31m76.3 MB/s\u001b[0m eta \u001b[36m0:00:01\u001b[0m"
     ]
    },
    {
     "name": "stdout",
     "output_type": "stream",
     "text": [
      "\r",
      "\u001b[2K     \u001b[91m━━━━━━━━━━━━━━━━━━━━━━━━━━━━━━━━━━━━━\u001b[0m\u001b[91m╸\u001b[0m \u001b[32m153.9/153.9 MB\u001b[0m \u001b[31m76.3 MB/s\u001b[0m eta \u001b[36m0:00:01\u001b[0m"
     ]
    },
    {
     "name": "stdout",
     "output_type": "stream",
     "text": [
      "\r",
      "\u001b[2K     \u001b[91m━━━━━━━━━━━━━━━━━━━━━━━━━━━━━━━━━━━━━\u001b[0m\u001b[91m╸\u001b[0m \u001b[32m153.9/153.9 MB\u001b[0m \u001b[31m76.3 MB/s\u001b[0m eta \u001b[36m0:00:01\u001b[0m"
     ]
    },
    {
     "name": "stdout",
     "output_type": "stream",
     "text": [
      "\r",
      "\u001b[2K     \u001b[91m━━━━━━━━━━━━━━━━━━━━━━━━━━━━━━━━━━━━━\u001b[0m\u001b[91m╸\u001b[0m \u001b[32m153.9/153.9 MB\u001b[0m \u001b[31m76.3 MB/s\u001b[0m eta \u001b[36m0:00:01\u001b[0m\r",
      "\u001b[2K     \u001b[91m━━━━━━━━━━━━━━━━━━━━━━━━━━━━━━━━━━━━━\u001b[0m\u001b[91m╸\u001b[0m \u001b[32m153.9/153.9 MB\u001b[0m \u001b[31m76.3 MB/s\u001b[0m eta \u001b[36m0:00:01\u001b[0m"
     ]
    },
    {
     "name": "stdout",
     "output_type": "stream",
     "text": [
      "\r",
      "\u001b[2K     \u001b[91m━━━━━━━━━━━━━━━━━━━━━━━━━━━━━━━━━━━━━\u001b[0m\u001b[91m╸\u001b[0m \u001b[32m153.9/153.9 MB\u001b[0m \u001b[31m76.3 MB/s\u001b[0m eta \u001b[36m0:00:01\u001b[0m"
     ]
    },
    {
     "name": "stdout",
     "output_type": "stream",
     "text": [
      "\r",
      "\u001b[2K     \u001b[91m━━━━━━━━━━━━━━━━━━━━━━━━━━━━━━━━━━━━━\u001b[0m\u001b[91m╸\u001b[0m \u001b[32m153.9/153.9 MB\u001b[0m \u001b[31m76.3 MB/s\u001b[0m eta \u001b[36m0:00:01\u001b[0m\r",
      "\u001b[2K     \u001b[91m━━━━━━━━━━━━━━━━━━━━━━━━━━━━━━━━━━━━━\u001b[0m\u001b[91m╸\u001b[0m \u001b[32m153.9/153.9 MB\u001b[0m \u001b[31m76.3 MB/s\u001b[0m eta \u001b[36m0:00:01\u001b[0m"
     ]
    },
    {
     "name": "stdout",
     "output_type": "stream",
     "text": [
      "\r",
      "\u001b[2K     \u001b[91m━━━━━━━━━━━━━━━━━━━━━━━━━━━━━━━━━━━━━\u001b[0m\u001b[91m╸\u001b[0m \u001b[32m153.9/153.9 MB\u001b[0m \u001b[31m76.3 MB/s\u001b[0m eta \u001b[36m0:00:01\u001b[0m"
     ]
    },
    {
     "name": "stdout",
     "output_type": "stream",
     "text": [
      "\r",
      "\u001b[2K     \u001b[91m━━━━━━━━━━━━━━━━━━━━━━━━━━━━━━━━━━━━━\u001b[0m\u001b[91m╸\u001b[0m \u001b[32m153.9/153.9 MB\u001b[0m \u001b[31m76.3 MB/s\u001b[0m eta \u001b[36m0:00:01\u001b[0m\r",
      "\u001b[2K     \u001b[91m━━━━━━━━━━━━━━━━━━━━━━━━━━━━━━━━━━━━━\u001b[0m\u001b[91m╸\u001b[0m \u001b[32m153.9/153.9 MB\u001b[0m \u001b[31m76.3 MB/s\u001b[0m eta \u001b[36m0:00:01\u001b[0m"
     ]
    },
    {
     "name": "stdout",
     "output_type": "stream",
     "text": [
      "\r",
      "\u001b[2K     \u001b[91m━━━━━━━━━━━━━━━━━━━━━━━━━━━━━━━━━━━━━\u001b[0m\u001b[91m╸\u001b[0m \u001b[32m153.9/153.9 MB\u001b[0m \u001b[31m76.3 MB/s\u001b[0m eta \u001b[36m0:00:01\u001b[0m"
     ]
    },
    {
     "name": "stdout",
     "output_type": "stream",
     "text": [
      "\r",
      "\u001b[2K     \u001b[91m━━━━━━━━━━━━━━━━━━━━━━━━━━━━━━━━━━━━━\u001b[0m\u001b[91m╸\u001b[0m \u001b[32m153.9/153.9 MB\u001b[0m \u001b[31m76.3 MB/s\u001b[0m eta \u001b[36m0:00:01\u001b[0m\r",
      "\u001b[2K     \u001b[91m━━━━━━━━━━━━━━━━━━━━━━━━━━━━━━━━━━━━━\u001b[0m\u001b[91m╸\u001b[0m \u001b[32m153.9/153.9 MB\u001b[0m \u001b[31m76.3 MB/s\u001b[0m eta \u001b[36m0:00:01\u001b[0m"
     ]
    },
    {
     "name": "stdout",
     "output_type": "stream",
     "text": [
      "\r",
      "\u001b[2K     \u001b[91m━━━━━━━━━━━━━━━━━━━━━━━━━━━━━━━━━━━━━\u001b[0m\u001b[91m╸\u001b[0m \u001b[32m153.9/153.9 MB\u001b[0m \u001b[31m76.3 MB/s\u001b[0m eta \u001b[36m0:00:01\u001b[0m"
     ]
    },
    {
     "name": "stdout",
     "output_type": "stream",
     "text": [
      "\r",
      "\u001b[2K     \u001b[91m━━━━━━━━━━━━━━━━━━━━━━━━━━━━━━━━━━━━━\u001b[0m\u001b[91m╸\u001b[0m \u001b[32m153.9/153.9 MB\u001b[0m \u001b[31m76.3 MB/s\u001b[0m eta \u001b[36m0:00:01\u001b[0m"
     ]
    },
    {
     "name": "stdout",
     "output_type": "stream",
     "text": [
      "\r",
      "\u001b[2K     \u001b[91m━━━━━━━━━━━━━━━━━━━━━━━━━━━━━━━━━━━━━\u001b[0m\u001b[91m╸\u001b[0m \u001b[32m153.9/153.9 MB\u001b[0m \u001b[31m76.3 MB/s\u001b[0m eta \u001b[36m0:00:01\u001b[0m\r",
      "\u001b[2K     \u001b[91m━━━━━━━━━━━━━━━━━━━━━━━━━━━━━━━━━━━━━\u001b[0m\u001b[91m╸\u001b[0m \u001b[32m153.9/153.9 MB\u001b[0m \u001b[31m76.3 MB/s\u001b[0m eta \u001b[36m0:00:01\u001b[0m"
     ]
    },
    {
     "name": "stdout",
     "output_type": "stream",
     "text": [
      "\r",
      "\u001b[2K     \u001b[91m━━━━━━━━━━━━━━━━━━━━━━━━━━━━━━━━━━━━━\u001b[0m\u001b[91m╸\u001b[0m \u001b[32m153.9/153.9 MB\u001b[0m \u001b[31m76.3 MB/s\u001b[0m eta \u001b[36m0:00:01\u001b[0m"
     ]
    },
    {
     "name": "stdout",
     "output_type": "stream",
     "text": [
      "\r",
      "\u001b[2K     \u001b[91m━━━━━━━━━━━━━━━━━━━━━━━━━━━━━━━━━━━━━\u001b[0m\u001b[91m╸\u001b[0m \u001b[32m153.9/153.9 MB\u001b[0m \u001b[31m76.3 MB/s\u001b[0m eta \u001b[36m0:00:01\u001b[0m\r",
      "\u001b[2K     \u001b[91m━━━━━━━━━━━━━━━━━━━━━━━━━━━━━━━━━━━━━\u001b[0m\u001b[91m╸\u001b[0m \u001b[32m153.9/153.9 MB\u001b[0m \u001b[31m76.3 MB/s\u001b[0m eta \u001b[36m0:00:01\u001b[0m"
     ]
    },
    {
     "name": "stdout",
     "output_type": "stream",
     "text": [
      "\r",
      "\u001b[2K     \u001b[91m━━━━━━━━━━━━━━━━━━━━━━━━━━━━━━━━━━━━━\u001b[0m\u001b[91m╸\u001b[0m \u001b[32m153.9/153.9 MB\u001b[0m \u001b[31m76.3 MB/s\u001b[0m eta \u001b[36m0:00:01\u001b[0m"
     ]
    },
    {
     "name": "stdout",
     "output_type": "stream",
     "text": [
      "\r",
      "\u001b[2K     \u001b[91m━━━━━━━━━━━━━━━━━━━━━━━━━━━━━━━━━━━━━\u001b[0m\u001b[91m╸\u001b[0m \u001b[32m153.9/153.9 MB\u001b[0m \u001b[31m76.3 MB/s\u001b[0m eta \u001b[36m0:00:01\u001b[0m\r",
      "\u001b[2K     \u001b[91m━━━━━━━━━━━━━━━━━━━━━━━━━━━━━━━━━━━━━\u001b[0m\u001b[91m╸\u001b[0m \u001b[32m153.9/153.9 MB\u001b[0m \u001b[31m76.3 MB/s\u001b[0m eta \u001b[36m0:00:01\u001b[0m"
     ]
    },
    {
     "name": "stdout",
     "output_type": "stream",
     "text": [
      "\r",
      "\u001b[2K     \u001b[91m━━━━━━━━━━━━━━━━━━━━━━━━━━━━━━━━━━━━━\u001b[0m\u001b[91m╸\u001b[0m \u001b[32m153.9/153.9 MB\u001b[0m \u001b[31m76.3 MB/s\u001b[0m eta \u001b[36m0:00:01\u001b[0m"
     ]
    },
    {
     "name": "stdout",
     "output_type": "stream",
     "text": [
      "\r",
      "\u001b[2K     \u001b[91m━━━━━━━━━━━━━━━━━━━━━━━━━━━━━━━━━━━━━\u001b[0m\u001b[91m╸\u001b[0m \u001b[32m153.9/153.9 MB\u001b[0m \u001b[31m76.3 MB/s\u001b[0m eta \u001b[36m0:00:01\u001b[0m\r",
      "\u001b[2K     \u001b[91m━━━━━━━━━━━━━━━━━━━━━━━━━━━━━━━━━━━━━\u001b[0m\u001b[91m╸\u001b[0m \u001b[32m153.9/153.9 MB\u001b[0m \u001b[31m76.3 MB/s\u001b[0m eta \u001b[36m0:00:01\u001b[0m"
     ]
    },
    {
     "name": "stdout",
     "output_type": "stream",
     "text": [
      "\r",
      "\u001b[2K     \u001b[91m━━━━━━━━━━━━━━━━━━━━━━━━━━━━━━━━━━━━━\u001b[0m\u001b[91m╸\u001b[0m \u001b[32m153.9/153.9 MB\u001b[0m \u001b[31m76.3 MB/s\u001b[0m eta \u001b[36m0:00:01\u001b[0m"
     ]
    },
    {
     "name": "stdout",
     "output_type": "stream",
     "text": [
      "\r",
      "\u001b[2K     \u001b[91m━━━━━━━━━━━━━━━━━━━━━━━━━━━━━━━━━━━━━\u001b[0m\u001b[91m╸\u001b[0m \u001b[32m153.9/153.9 MB\u001b[0m \u001b[31m76.3 MB/s\u001b[0m eta \u001b[36m0:00:01\u001b[0m"
     ]
    },
    {
     "name": "stdout",
     "output_type": "stream",
     "text": [
      "\r",
      "\u001b[2K     \u001b[91m━━━━━━━━━━━━━━━━━━━━━━━━━━━━━━━━━━━━━\u001b[0m\u001b[91m╸\u001b[0m \u001b[32m153.9/153.9 MB\u001b[0m \u001b[31m76.3 MB/s\u001b[0m eta \u001b[36m0:00:01\u001b[0m\r",
      "\u001b[2K     \u001b[91m━━━━━━━━━━━━━━━━━━━━━━━━━━━━━━━━━━━━━\u001b[0m\u001b[91m╸\u001b[0m \u001b[32m153.9/153.9 MB\u001b[0m \u001b[31m76.3 MB/s\u001b[0m eta \u001b[36m0:00:01\u001b[0m"
     ]
    },
    {
     "name": "stdout",
     "output_type": "stream",
     "text": [
      "\r",
      "\u001b[2K     \u001b[91m━━━━━━━━━━━━━━━━━━━━━━━━━━━━━━━━━━━━━\u001b[0m\u001b[91m╸\u001b[0m \u001b[32m153.9/153.9 MB\u001b[0m \u001b[31m76.3 MB/s\u001b[0m eta \u001b[36m0:00:01\u001b[0m"
     ]
    },
    {
     "name": "stdout",
     "output_type": "stream",
     "text": [
      "\r",
      "\u001b[2K     \u001b[91m━━━━━━━━━━━━━━━━━━━━━━━━━━━━━━━━━━━━━\u001b[0m\u001b[91m╸\u001b[0m \u001b[32m153.9/153.9 MB\u001b[0m \u001b[31m76.3 MB/s\u001b[0m eta \u001b[36m0:00:01\u001b[0m\r",
      "\u001b[2K     \u001b[91m━━━━━━━━━━━━━━━━━━━━━━━━━━━━━━━━━━━━━\u001b[0m\u001b[91m╸\u001b[0m \u001b[32m153.9/153.9 MB\u001b[0m \u001b[31m76.3 MB/s\u001b[0m eta \u001b[36m0:00:01\u001b[0m"
     ]
    },
    {
     "name": "stdout",
     "output_type": "stream",
     "text": [
      "\r",
      "\u001b[2K     \u001b[91m━━━━━━━━━━━━━━━━━━━━━━━━━━━━━━━━━━━━━\u001b[0m\u001b[91m╸\u001b[0m \u001b[32m153.9/153.9 MB\u001b[0m \u001b[31m76.3 MB/s\u001b[0m eta \u001b[36m0:00:01\u001b[0m"
     ]
    },
    {
     "name": "stdout",
     "output_type": "stream",
     "text": [
      "\r",
      "\u001b[2K     \u001b[91m━━━━━━━━━━━━━━━━━━━━━━━━━━━━━━━━━━━━━\u001b[0m\u001b[91m╸\u001b[0m \u001b[32m153.9/153.9 MB\u001b[0m \u001b[31m76.3 MB/s\u001b[0m eta \u001b[36m0:00:01\u001b[0m\r",
      "\u001b[2K     \u001b[91m━━━━━━━━━━━━━━━━━━━━━━━━━━━━━━━━━━━━━\u001b[0m\u001b[91m╸\u001b[0m \u001b[32m153.9/153.9 MB\u001b[0m \u001b[31m76.3 MB/s\u001b[0m eta \u001b[36m0:00:01\u001b[0m"
     ]
    },
    {
     "name": "stdout",
     "output_type": "stream",
     "text": [
      "\r",
      "\u001b[2K     \u001b[91m━━━━━━━━━━━━━━━━━━━━━━━━━━━━━━━━━━━━━\u001b[0m\u001b[91m╸\u001b[0m \u001b[32m153.9/153.9 MB\u001b[0m \u001b[31m76.3 MB/s\u001b[0m eta \u001b[36m0:00:01\u001b[0m"
     ]
    },
    {
     "name": "stdout",
     "output_type": "stream",
     "text": [
      "\r",
      "\u001b[2K     \u001b[91m━━━━━━━━━━━━━━━━━━━━━━━━━━━━━━━━━━━━━\u001b[0m\u001b[91m╸\u001b[0m \u001b[32m153.9/153.9 MB\u001b[0m \u001b[31m76.3 MB/s\u001b[0m eta \u001b[36m0:00:01\u001b[0m\r",
      "\u001b[2K     \u001b[91m━━━━━━━━━━━━━━━━━━━━━━━━━━━━━━━━━━━━━\u001b[0m\u001b[91m╸\u001b[0m \u001b[32m153.9/153.9 MB\u001b[0m \u001b[31m76.3 MB/s\u001b[0m eta \u001b[36m0:00:01\u001b[0m"
     ]
    },
    {
     "name": "stdout",
     "output_type": "stream",
     "text": [
      "\r",
      "\u001b[2K     \u001b[91m━━━━━━━━━━━━━━━━━━━━━━━━━━━━━━━━━━━━━\u001b[0m\u001b[91m╸\u001b[0m \u001b[32m153.9/153.9 MB\u001b[0m \u001b[31m76.3 MB/s\u001b[0m eta \u001b[36m0:00:01\u001b[0m"
     ]
    },
    {
     "name": "stdout",
     "output_type": "stream",
     "text": [
      "\r",
      "\u001b[2K     \u001b[91m━━━━━━━━━━━━━━━━━━━━━━━━━━━━━━━━━━━━━\u001b[0m\u001b[91m╸\u001b[0m \u001b[32m153.9/153.9 MB\u001b[0m \u001b[31m76.3 MB/s\u001b[0m eta \u001b[36m0:00:01\u001b[0m"
     ]
    },
    {
     "name": "stdout",
     "output_type": "stream",
     "text": [
      "\r",
      "\u001b[2K     \u001b[91m━━━━━━━━━━━━━━━━━━━━━━━━━━━━━━━━━━━━━\u001b[0m\u001b[91m╸\u001b[0m \u001b[32m153.9/153.9 MB\u001b[0m \u001b[31m76.3 MB/s\u001b[0m eta \u001b[36m0:00:01\u001b[0m\r",
      "\u001b[2K     \u001b[91m━━━━━━━━━━━━━━━━━━━━━━━━━━━━━━━━━━━━━\u001b[0m\u001b[91m╸\u001b[0m \u001b[32m153.9/153.9 MB\u001b[0m \u001b[31m76.3 MB/s\u001b[0m eta \u001b[36m0:00:01\u001b[0m"
     ]
    },
    {
     "name": "stdout",
     "output_type": "stream",
     "text": [
      "\r",
      "\u001b[2K     \u001b[91m━━━━━━━━━━━━━━━━━━━━━━━━━━━━━━━━━━━━━\u001b[0m\u001b[91m╸\u001b[0m \u001b[32m153.9/153.9 MB\u001b[0m \u001b[31m76.3 MB/s\u001b[0m eta \u001b[36m0:00:01\u001b[0m"
     ]
    },
    {
     "name": "stdout",
     "output_type": "stream",
     "text": [
      "\r",
      "\u001b[2K     \u001b[91m━━━━━━━━━━━━━━━━━━━━━━━━━━━━━━━━━━━━━\u001b[0m\u001b[91m╸\u001b[0m \u001b[32m153.9/153.9 MB\u001b[0m \u001b[31m76.3 MB/s\u001b[0m eta \u001b[36m0:00:01\u001b[0m\r",
      "\u001b[2K     \u001b[90m━━━━━━━━━━━━━━━━━━━━━━━━━━━━━━━━━━━━━━━\u001b[0m \u001b[32m153.9/153.9 MB\u001b[0m \u001b[31m4.2 MB/s\u001b[0m eta \u001b[36m0:00:00\u001b[0m\r\n",
      "\u001b[?25h"
     ]
    },
    {
     "name": "stdout",
     "output_type": "stream",
     "text": [
      "Requirement already satisfied: numpy>=1.17.0 in /usr/local/lib/python3.10/site-packages (from lightgbm) (1.26.4)\r\n",
      "Requirement already satisfied: scipy in /usr/local/lib/python3.10/site-packages (from lightgbm) (1.13.1)\r\n",
      "Requirement already satisfied: nvidia-nccl-cu12 in /usr/local/lib/python3.10/site-packages (from xgboost) (2.20.5)\r\n"
     ]
    },
    {
     "name": "stdout",
     "output_type": "stream",
     "text": [
      "Installing collected packages: xgboost, lightgbm\r\n"
     ]
    },
    {
     "name": "stdout",
     "output_type": "stream",
     "text": [
      "Successfully installed lightgbm-4.5.0 xgboost-2.1.1\r\n",
      "\u001b[33mWARNING: Running pip as the 'root' user can result in broken permissions and conflicting behaviour with the system package manager. It is recommended to use a virtual environment instead: https://pip.pypa.io/warnings/venv\u001b[0m\u001b[33m\r\n",
      "\u001b[0m"
     ]
    },
    {
     "name": "stdout",
     "output_type": "stream",
     "text": [
      "\r\n",
      "\u001b[1m[\u001b[0m\u001b[34;49mnotice\u001b[0m\u001b[1;39;49m]\u001b[0m\u001b[39;49m A new release of pip is available: \u001b[0m\u001b[31;49m23.0.1\u001b[0m\u001b[39;49m -> \u001b[0m\u001b[32;49m24.2\u001b[0m\r\n",
      "\u001b[1m[\u001b[0m\u001b[34;49mnotice\u001b[0m\u001b[1;39;49m]\u001b[0m\u001b[39;49m To update, run: \u001b[0m\u001b[32;49mpip install --upgrade pip\u001b[0m\r\n"
     ]
    }
   ],
   "source": [
    "!pip install lightgbm xgboost"
   ]
  },
  {
   "cell_type": "code",
   "execution_count": 2,
   "id": "c2a03a4d",
   "metadata": {
    "_cell_guid": "b1076dfc-b9ad-4769-8c92-a6c4dae69d19",
    "_uuid": "8f2839f25d086af736a60e9eeb907d3b93b6e0e5",
    "execution": {
     "iopub.execute_input": "2024-08-03T18:32:21.916368Z",
     "iopub.status.busy": "2024-08-03T18:32:21.916049Z",
     "iopub.status.idle": "2024-08-03T18:32:31.631294Z",
     "shell.execute_reply": "2024-08-03T18:32:31.630594Z"
    },
    "papermill": {
     "duration": 9.728198,
     "end_time": "2024-08-03T18:32:31.632929",
     "exception": false,
     "start_time": "2024-08-03T18:32:21.904731",
     "status": "completed"
    },
    "tags": []
   },
   "outputs": [
    {
     "data": {
      "text/html": [
       "<div>\n",
       "<style scoped>\n",
       "    .dataframe tbody tr th:only-of-type {\n",
       "        vertical-align: middle;\n",
       "    }\n",
       "\n",
       "    .dataframe tbody tr th {\n",
       "        vertical-align: top;\n",
       "    }\n",
       "\n",
       "    .dataframe thead th {\n",
       "        text-align: right;\n",
       "    }\n",
       "</style>\n",
       "<table border=\"1\" class=\"dataframe\">\n",
       "  <thead>\n",
       "    <tr style=\"text-align: right;\">\n",
       "      <th></th>\n",
       "      <th>id</th>\n",
       "      <th>class</th>\n",
       "      <th>cap-diameter</th>\n",
       "      <th>cap-shape</th>\n",
       "      <th>cap-surface</th>\n",
       "      <th>cap-color</th>\n",
       "      <th>does-bruise-or-bleed</th>\n",
       "      <th>gill-attachment</th>\n",
       "      <th>gill-spacing</th>\n",
       "      <th>gill-color</th>\n",
       "      <th>...</th>\n",
       "      <th>stem-root</th>\n",
       "      <th>stem-surface</th>\n",
       "      <th>stem-color</th>\n",
       "      <th>veil-type</th>\n",
       "      <th>veil-color</th>\n",
       "      <th>has-ring</th>\n",
       "      <th>ring-type</th>\n",
       "      <th>spore-print-color</th>\n",
       "      <th>habitat</th>\n",
       "      <th>season</th>\n",
       "    </tr>\n",
       "  </thead>\n",
       "  <tbody>\n",
       "    <tr>\n",
       "      <th>0</th>\n",
       "      <td>0</td>\n",
       "      <td>e</td>\n",
       "      <td>8.80</td>\n",
       "      <td>f</td>\n",
       "      <td>s</td>\n",
       "      <td>u</td>\n",
       "      <td>f</td>\n",
       "      <td>a</td>\n",
       "      <td>c</td>\n",
       "      <td>w</td>\n",
       "      <td>...</td>\n",
       "      <td>NaN</td>\n",
       "      <td>NaN</td>\n",
       "      <td>w</td>\n",
       "      <td>NaN</td>\n",
       "      <td>NaN</td>\n",
       "      <td>f</td>\n",
       "      <td>f</td>\n",
       "      <td>NaN</td>\n",
       "      <td>d</td>\n",
       "      <td>a</td>\n",
       "    </tr>\n",
       "    <tr>\n",
       "      <th>1</th>\n",
       "      <td>1</td>\n",
       "      <td>p</td>\n",
       "      <td>4.51</td>\n",
       "      <td>x</td>\n",
       "      <td>h</td>\n",
       "      <td>o</td>\n",
       "      <td>f</td>\n",
       "      <td>a</td>\n",
       "      <td>c</td>\n",
       "      <td>n</td>\n",
       "      <td>...</td>\n",
       "      <td>NaN</td>\n",
       "      <td>y</td>\n",
       "      <td>o</td>\n",
       "      <td>NaN</td>\n",
       "      <td>NaN</td>\n",
       "      <td>t</td>\n",
       "      <td>z</td>\n",
       "      <td>NaN</td>\n",
       "      <td>d</td>\n",
       "      <td>w</td>\n",
       "    </tr>\n",
       "    <tr>\n",
       "      <th>2</th>\n",
       "      <td>2</td>\n",
       "      <td>e</td>\n",
       "      <td>6.94</td>\n",
       "      <td>f</td>\n",
       "      <td>s</td>\n",
       "      <td>b</td>\n",
       "      <td>f</td>\n",
       "      <td>x</td>\n",
       "      <td>c</td>\n",
       "      <td>w</td>\n",
       "      <td>...</td>\n",
       "      <td>NaN</td>\n",
       "      <td>s</td>\n",
       "      <td>n</td>\n",
       "      <td>NaN</td>\n",
       "      <td>NaN</td>\n",
       "      <td>f</td>\n",
       "      <td>f</td>\n",
       "      <td>NaN</td>\n",
       "      <td>l</td>\n",
       "      <td>w</td>\n",
       "    </tr>\n",
       "    <tr>\n",
       "      <th>3</th>\n",
       "      <td>3</td>\n",
       "      <td>e</td>\n",
       "      <td>3.88</td>\n",
       "      <td>f</td>\n",
       "      <td>y</td>\n",
       "      <td>g</td>\n",
       "      <td>f</td>\n",
       "      <td>s</td>\n",
       "      <td>NaN</td>\n",
       "      <td>g</td>\n",
       "      <td>...</td>\n",
       "      <td>NaN</td>\n",
       "      <td>NaN</td>\n",
       "      <td>w</td>\n",
       "      <td>NaN</td>\n",
       "      <td>NaN</td>\n",
       "      <td>f</td>\n",
       "      <td>f</td>\n",
       "      <td>NaN</td>\n",
       "      <td>d</td>\n",
       "      <td>u</td>\n",
       "    </tr>\n",
       "    <tr>\n",
       "      <th>4</th>\n",
       "      <td>4</td>\n",
       "      <td>e</td>\n",
       "      <td>5.85</td>\n",
       "      <td>x</td>\n",
       "      <td>l</td>\n",
       "      <td>w</td>\n",
       "      <td>f</td>\n",
       "      <td>d</td>\n",
       "      <td>NaN</td>\n",
       "      <td>w</td>\n",
       "      <td>...</td>\n",
       "      <td>NaN</td>\n",
       "      <td>NaN</td>\n",
       "      <td>w</td>\n",
       "      <td>NaN</td>\n",
       "      <td>NaN</td>\n",
       "      <td>f</td>\n",
       "      <td>f</td>\n",
       "      <td>NaN</td>\n",
       "      <td>g</td>\n",
       "      <td>a</td>\n",
       "    </tr>\n",
       "  </tbody>\n",
       "</table>\n",
       "<p>5 rows × 22 columns</p>\n",
       "</div>"
      ],
      "text/plain": [
       "   id class  cap-diameter cap-shape cap-surface cap-color  \\\n",
       "0   0     e          8.80         f           s         u   \n",
       "1   1     p          4.51         x           h         o   \n",
       "2   2     e          6.94         f           s         b   \n",
       "3   3     e          3.88         f           y         g   \n",
       "4   4     e          5.85         x           l         w   \n",
       "\n",
       "  does-bruise-or-bleed gill-attachment gill-spacing gill-color  ...  \\\n",
       "0                    f               a            c          w  ...   \n",
       "1                    f               a            c          n  ...   \n",
       "2                    f               x            c          w  ...   \n",
       "3                    f               s          NaN          g  ...   \n",
       "4                    f               d          NaN          w  ...   \n",
       "\n",
       "   stem-root  stem-surface stem-color veil-type veil-color has-ring ring-type  \\\n",
       "0        NaN           NaN          w       NaN        NaN        f         f   \n",
       "1        NaN             y          o       NaN        NaN        t         z   \n",
       "2        NaN             s          n       NaN        NaN        f         f   \n",
       "3        NaN           NaN          w       NaN        NaN        f         f   \n",
       "4        NaN           NaN          w       NaN        NaN        f         f   \n",
       "\n",
       "  spore-print-color habitat season  \n",
       "0               NaN       d      a  \n",
       "1               NaN       d      w  \n",
       "2               NaN       l      w  \n",
       "3               NaN       d      u  \n",
       "4               NaN       g      a  \n",
       "\n",
       "[5 rows x 22 columns]"
      ]
     },
     "execution_count": 2,
     "metadata": {},
     "output_type": "execute_result"
    }
   ],
   "source": [
    "# import required libraries \n",
    "import pandas as pd\n",
    "import numpy as np\n",
    "import matplotlib.pyplot as plt\n",
    "df_train = pd.read_csv('/kaggle/input/playground-series-s4e8/train.csv')\n",
    "df_train.head()"
   ]
  },
  {
   "cell_type": "code",
   "execution_count": 3,
   "id": "d37357e8",
   "metadata": {
    "execution": {
     "iopub.execute_input": "2024-08-03T18:32:31.654748Z",
     "iopub.status.busy": "2024-08-03T18:32:31.654463Z",
     "iopub.status.idle": "2024-08-03T18:32:33.587447Z",
     "shell.execute_reply": "2024-08-03T18:32:33.586747Z"
    },
    "papermill": {
     "duration": 1.94591,
     "end_time": "2024-08-03T18:32:33.589117",
     "exception": false,
     "start_time": "2024-08-03T18:32:31.643207",
     "status": "completed"
    },
    "tags": []
   },
   "outputs": [
    {
     "data": {
      "text/plain": [
       "id                            0\n",
       "class                         0\n",
       "cap-diameter                  4\n",
       "cap-shape                    40\n",
       "cap-surface              671023\n",
       "cap-color                    12\n",
       "does-bruise-or-bleed          8\n",
       "gill-attachment          523936\n",
       "gill-spacing            1258435\n",
       "gill-color                   57\n",
       "stem-height                   0\n",
       "stem-width                    0\n",
       "stem-root               2757023\n",
       "stem-surface            1980861\n",
       "stem-color                   38\n",
       "veil-type               2957493\n",
       "veil-color              2740947\n",
       "has-ring                     24\n",
       "ring-type                128880\n",
       "spore-print-color       2849682\n",
       "habitat                      45\n",
       "season                        0\n",
       "dtype: int64"
      ]
     },
     "execution_count": 3,
     "metadata": {},
     "output_type": "execute_result"
    }
   ],
   "source": [
    "# check for missing values in the training set\n",
    "df_train.isnull().sum()"
   ]
  },
  {
   "cell_type": "code",
   "execution_count": 4,
   "id": "e757360a",
   "metadata": {
    "execution": {
     "iopub.execute_input": "2024-08-03T18:32:33.610950Z",
     "iopub.status.busy": "2024-08-03T18:32:33.610677Z",
     "iopub.status.idle": "2024-08-03T18:32:33.616899Z",
     "shell.execute_reply": "2024-08-03T18:32:33.616297Z"
    },
    "papermill": {
     "duration": 0.01898,
     "end_time": "2024-08-03T18:32:33.618431",
     "exception": false,
     "start_time": "2024-08-03T18:32:33.599451",
     "status": "completed"
    },
    "tags": []
   },
   "outputs": [
    {
     "data": {
      "text/plain": [
       "id                        int64\n",
       "class                    object\n",
       "cap-diameter            float64\n",
       "cap-shape                object\n",
       "cap-surface              object\n",
       "cap-color                object\n",
       "does-bruise-or-bleed     object\n",
       "gill-attachment          object\n",
       "gill-spacing             object\n",
       "gill-color               object\n",
       "stem-height             float64\n",
       "stem-width              float64\n",
       "stem-root                object\n",
       "stem-surface             object\n",
       "stem-color               object\n",
       "veil-type                object\n",
       "veil-color               object\n",
       "has-ring                 object\n",
       "ring-type                object\n",
       "spore-print-color        object\n",
       "habitat                  object\n",
       "season                   object\n",
       "dtype: object"
      ]
     },
     "execution_count": 4,
     "metadata": {},
     "output_type": "execute_result"
    }
   ],
   "source": [
    "# check for literal values in the training set \n",
    "df_train.dtypes"
   ]
  },
  {
   "cell_type": "code",
   "execution_count": 5,
   "id": "de7262ec",
   "metadata": {
    "execution": {
     "iopub.execute_input": "2024-08-03T18:32:33.639955Z",
     "iopub.status.busy": "2024-08-03T18:32:33.639724Z",
     "iopub.status.idle": "2024-08-03T18:32:35.484839Z",
     "shell.execute_reply": "2024-08-03T18:32:35.483973Z"
    },
    "papermill": {
     "duration": 1.858758,
     "end_time": "2024-08-03T18:32:35.487282",
     "exception": false,
     "start_time": "2024-08-03T18:32:33.628524",
     "status": "completed"
    },
    "tags": []
   },
   "outputs": [],
   "source": [
    "import pandas as pd\n",
    "from sklearn.impute import KNNImputer\n",
    "from sklearn.experimental import enable_iterative_imputer\n",
    "from sklearn.impute import IterativeImputer\n",
    "\n",
    "def impute_data(df, method='mean'):\n",
    "    if method == 'mean':\n",
    "        imputed_df = df.fillna(df.mean())\n",
    "    elif method == 'mode':\n",
    "        imputed_df = df.fillna(df.mode().iloc[0])\n",
    "    elif method == 'median':\n",
    "        imputed_df = df.fillna(df.median())\n",
    "    elif method == 'knn':\n",
    "        imputer = KNNImputer(n_neighbors=5)\n",
    "        imputed_df = pd.DataFrame(imputer.fit_transform(df), columns=df.columns)\n",
    "    elif method == 'mice':\n",
    "        imputer = IterativeImputer()\n",
    "        imputed_df = pd.DataFrame(imputer.fit_transform(df), columns=df.columns)\n",
    "    else:\n",
    "        raise ValueError(\"Invalid imputation method. Please choose from 'mean', 'mode', 'median', 'knn', or 'mice'.\")\n",
    "    \n",
    "    return imputed_df"
   ]
  },
  {
   "cell_type": "code",
   "execution_count": null,
   "id": "a2220aea",
   "metadata": {
    "papermill": {
     "duration": 0.010734,
     "end_time": "2024-08-03T18:32:35.508669",
     "exception": false,
     "start_time": "2024-08-03T18:32:35.497935",
     "status": "completed"
    },
    "tags": []
   },
   "outputs": [],
   "source": []
  },
  {
   "cell_type": "code",
   "execution_count": 6,
   "id": "22d8b5d4",
   "metadata": {
    "execution": {
     "iopub.execute_input": "2024-08-03T18:32:35.530805Z",
     "iopub.status.busy": "2024-08-03T18:32:35.530147Z",
     "iopub.status.idle": "2024-08-03T18:32:35.536327Z",
     "shell.execute_reply": "2024-08-03T18:32:35.535652Z"
    },
    "papermill": {
     "duration": 0.018771,
     "end_time": "2024-08-03T18:32:35.537798",
     "exception": false,
     "start_time": "2024-08-03T18:32:35.519027",
     "status": "completed"
    },
    "tags": []
   },
   "outputs": [
    {
     "data": {
      "text/plain": [
       "['class',\n",
       " 'cap-shape',\n",
       " 'cap-surface',\n",
       " 'cap-color',\n",
       " 'does-bruise-or-bleed',\n",
       " 'gill-attachment',\n",
       " 'gill-spacing',\n",
       " 'gill-color',\n",
       " 'stem-root',\n",
       " 'stem-surface',\n",
       " 'stem-color',\n",
       " 'veil-type',\n",
       " 'veil-color',\n",
       " 'has-ring',\n",
       " 'ring-type',\n",
       " 'spore-print-color',\n",
       " 'habitat',\n",
       " 'season']"
      ]
     },
     "execution_count": 6,
     "metadata": {},
     "output_type": "execute_result"
    }
   ],
   "source": [
    "# get all the columns that don't have numerical values (dtype as object)\n",
    "categorical_columns = [col for col in df_train.columns if df_train[col].dtype == 'object']\n",
    "\n",
    "categorical_columns"
   ]
  },
  {
   "cell_type": "code",
   "execution_count": 7,
   "id": "eaf943c3",
   "metadata": {
    "execution": {
     "iopub.execute_input": "2024-08-03T18:32:35.601885Z",
     "iopub.status.busy": "2024-08-03T18:32:35.601576Z",
     "iopub.status.idle": "2024-08-03T18:32:36.705104Z",
     "shell.execute_reply": "2024-08-03T18:32:36.704287Z"
    },
    "papermill": {
     "duration": 1.11671,
     "end_time": "2024-08-03T18:32:36.706912",
     "exception": false,
     "start_time": "2024-08-03T18:32:35.590202",
     "status": "completed"
    },
    "tags": []
   },
   "outputs": [
    {
     "name": "stdout",
     "output_type": "stream",
     "text": [
      "class: ['e' 'p']\n",
      "cap-shape: ['f' 'x' 'p' 'b' 'o' 'c' 's' 'd' 'e' 'n' nan 'w' 'k' 'l' '19.29' '5 f' 't'\n",
      " 'g' 'z' 'a' '2.85' '7 x' 'r' 'u' '3.55' 'is s' 'y' '4.22' '3.6' '21.56'\n",
      " 'i' '6 x' '24.16' '8' 'm' 'ring-type' '10.13' 'is p' '7.43' 'h' '0.82'\n",
      " '10.46' '2.77' '2.94' '12.62' '5.15' '19.04' '4.97' '49.21' 'b f' '9.13'\n",
      " '1.66' '3.37' '7.21' '3.25' '11.12' '3 x' '4.3' '7.41' '6.21' '8.29'\n",
      " '54.78' '20.25' '3.52' '3.04' '2.63' '3.91' '6.44' '8.3' '7.6' '17.44'\n",
      " '4.33' '2.82' '6.53' '19.06']\n",
      "cap-surface: ['s' 'h' 'y' 'l' 't' 'e' 'g' nan 'd' 'i' 'w' 'k' '15.94' 'f' 'n' 'r' 'o'\n",
      " 'a' 'u' 'z' '2.7' 'does l' '5.07' 'p' 'b' 'm' 'cap-diameter' '1.43' 'x'\n",
      " '7.14' 'c' 'is h' 'does t' '0.85' '6.57' '12.79' '6.45' '4.66' '23.18'\n",
      " '3.06' '16.39' '4.21' 'veil-color' '11.78' '8.1' 'has-ring' 'does h'\n",
      " '1.42' 'class' 'has h' 'does None' '10.83' 'season' '8.96' '14.04' '5.73'\n",
      " 'is None' '24.38' '2.81' '0.88' '2.11' '2.79' 'ring-type'\n",
      " 'does-bruise-or-bleed' '4.93' 'spore-print-color' 'spore-color' '2.92'\n",
      " '2.51' '7.99' 'is y' '3.64' '3.33' '41.91' '12.2' '8.01' '9.22' '1.14'\n",
      " '6.49' '10.34' '10.1' '1.08' 'is k' '0.87']\n",
      "cap-color: ['u' 'o' 'b' 'g' 'w' 'n' 'e' 'y' 'r' 'p' 'k' 'l' 'i' 'h' 'd' 's' 'a' 'f'\n",
      " '2.05' 'season' 'c' 'x' '13' '7.72' 'm' 'z' '6.76' '7.15' 't' 'ring-type'\n",
      " nan 'class' '12.89' '8.83' '24.75' '22.38' '1.51' '10.1' '17.94' '3.57'\n",
      " 'does n' '4.89' '6.2' '21.53' '6.41' '4.98' '3.95' 'does-bruise-or-bleed'\n",
      " '6.59' '5.25' 'veil-color' '6.9' '5.41' '11.13' '3.11' '2.57' '17.93'\n",
      " '2.7' '8.57' '11.92' '3.08' '2.82' '4.24' '17.19' '3.34' '7' '2.9' '6.36'\n",
      " '5.91' '10.56' '26.89' '4. n' '20.62' 'stem-surface' '20.02' '20' '25.98'\n",
      " '8.67' '9.02']\n",
      "does-bruise-or-bleed: ['f' 't' 'd' 'has-ring' 'w' 'o' 'b' 'x' 'p' nan 'g' 'y' 'r' 'a' 'l' 'i'\n",
      " 'c' 'n' 'z' 's' 'k' 'h' '3.43' 'e' '4.42' '2.9' 'u']\n"
     ]
    },
    {
     "name": "stdout",
     "output_type": "stream",
     "text": [
      "gill-attachment: ['a' 'x' 's' 'd' 'e' nan 'f' 'p' 'l' 'm' 'b' '32.54' 'n' 'g' 'i' 'u'\n",
      " 'does-bruise-or-bleed' 't' 'o' 'c' 'w' '4.64' 'k' 'r' '4.77' 'h' 'p p'\n",
      " '7.92' 'z' 'season' 'y' '8.79' 'does None' 'has f' 'ring-type' '16.33'\n",
      " '10.85' '20.07' '2.82' '7.86' '3.91' 'does' '10.23' '6.74' '0.92' '3.45'\n",
      " '1' 'is a' '3.71' '50.44' '11.62' 'has d' '1.32' '8.47' '6.11' '2.41'\n",
      " '2.54' '6.32' '19.65' '15.49' '4.01' '8.37' 'does f' '28.7' '13.15'\n",
      " '1.37' '28.15' '7.09' '9.88' '2.67' '18.21' '1.48' '5.93' '1.51' '16.27'\n",
      " '11.26' '2.79' 'is f' '13.94']\n",
      "gill-spacing: ['c' nan 'd' 'f' 'x' 'b' 'a' '3.61' '2.69' 'k' '4.8' 'e' 'y' 'class' 's'\n",
      " '9.01' 'p' '3.92' '5.22' '6.67' '4.04' 't' '0.73' 'i' '3.57' '24.38' 'w'\n",
      " 'h' 'cap-surface' 'l' '1' '12.27' '5.42' 'r' '1.6' 'n' 'g' '0' '3.81'\n",
      " '4.09' '1.36' '3.24' '5.55' '5.7' '3.62' 'does f' '6.4' '1.88' '55.13']\n",
      "gill-color: ['w' 'n' 'g' 'k' 'y' 'f' 'p' 'o' 'b' 'u' 'e' 'r' 'd' 't' '3.45' 'z' '5'\n",
      " '3.39' 'season' 'h' 'x' 's' '4' 'class' 'c' 'm' 'spacing' '0.92' nan\n",
      " '18.12' 'l' 'does w' 'a' '7.59' '8.06' '6.19' 'has-ring' '4.49' '9.46'\n",
      " '5.01' 'ring-type' '3.4' 'i' '17' '10.07' 'stem-root' '20.6'\n",
      " 'spore-print-color' '18.03' 'does-bruise-or-bleed' '8.83' 'habitat'\n",
      " '10.21' '4.64' '6.4' 'is y' 'e y' '1.91' 'does n' '16.41' '6.41'\n",
      " 'veil-type' '20.44' '8.37']\n",
      "stem-root: [nan 'b' 'c' 'r' 's' 'f' '5.59' '2.77' '20.01' 'y' 'o' 'k' 'd' 'n' 'w' 'u'\n",
      " 'p' 'x' 'i' '10.87' 'a' '3.63' 't' 'm' 'l' 'h' 'g' '16.88' '15.69' '1.48'\n",
      " '3.23' 'e' '20.0' '18.06' 'z' 'spore-print-color' '3.49' '13.03' '7.15']\n",
      "stem-surface: [nan 'y' 's' 't' 'g' 'h' 'k' 'i' 'f' 'l' 'd' 'x' '12.04' 'w' 'a' 'o' 'c'\n",
      " 'n' 'm' 'e' 'p' 'z' '6.58' '4.34' 'b' '3.89' 'r' '25.83' '1.59' '0.0'\n",
      " '5.97' '5.81' 'u' 'season' '10.48' '3.68' '5.56' '4.41' '5.48' '5.51'\n",
      " 'class' 'has-ring' '13.1' '17.46' '5.35' '7.23' 'does None' '1.03'\n",
      " 'does s' '7.45' 'has h' 'does-bruise-or-bleed' '1.94' '49.46' '19.35'\n",
      " '2.68' '4.74' 'spore-print-color' '10.93' '24.12' '13.94']\n",
      "stem-color: ['w' 'o' 'n' 'y' 'e' 'u' 'p' 'f' 'g' 'r' 'k' 'l' 'b' '3.13' 't' 'z' 'a'\n",
      " 'h' 'd' nan 's' '7.33' 'is n' 'i' 'c' 'x' 'e n' '1.75' 'm' '33.52'\n",
      " 'ring-type' '2.78' 'spore-print-color' '23.59' '8.32' 'is w' '26.4'\n",
      " '4.75' '7.84' 'class' '2.75' '8.49' '4.49' '1.41' '17.45' '3.53' '12.92'\n",
      " '3.98' '20.07' '7.7' '22.6' '6.31' '6.09' '3.56' '3.37' '4.62' '2.54'\n",
      " '39.51' '18.06' '4.33']\n",
      "veil-type: [nan 'u' 'd' 'a' 'h' '21.11' 'g' 'c' 'e' 'y' 'i' 'f' 'is None' 't' 'w' 'p'\n",
      " 'b' 's' 'k' 'r' 'l' 'n' '5.94']\n",
      "veil-color: [nan 'n' 'w' 'k' 'y' 'e' 'u' 'p' 'd' 'g' 'r' 'h' 's' '8.25' 't' 'c' 'o'\n",
      " 'i' '2.49' 'f' 'a' 'b' 'l' 'z' '3.32']\n",
      "has-ring: ['f' 't' 'h' 'r' 'y' 'c' 'e' 'g' 'l' 's' nan 'p' 'x' 'k' 'z' 'f has-ring'\n",
      " 'd' 'o' 'n' 'm' 'i' '10.3' 'w' 'a']\n",
      "ring-type: ['f' 'z' 'e' nan 'p' 'l' 'g' 'r' 'm' 'y' 'h' 'o' 't' 'ring-type' 'a' 'd'\n",
      " 's' 'x' '4' 'b' '15' 'u' 'n' 'w' 'does f' '3.12' 'i' 'season' 'k' 'c'\n",
      " 'does-bruise-or-bleed' '11' '23.6' '1' '14' '2' 'spore-print-color'\n",
      " 'class' 'sp' '2.87' '8.25']\n"
     ]
    },
    {
     "name": "stdout",
     "output_type": "stream",
     "text": [
      "spore-print-color: [nan 'k' 'w' 'p' 'n' 'r' 'u' 'g' 't' 'f' 'd' 'l' 'y' 'a' 's' '2.49' 'e'\n",
      " 'o' 'c' 'b' '10 None' 'h' 'x' '9 None' 'i' 'm' 'veil-color' 'class'\n",
      " '2.62' 'season' '9.55' '6.36' '4.58']\n",
      "habitat: ['d' 'l' 'g' 'h' 'p' 'm' 'u' 'w' 'y' nan 'n' 'a' 's' 'k' 'habitat' 'z'\n",
      " '8.09' '17.1' 'b' 't' 'c' '9.28' 'ring-type' 'e' 'r'\n",
      " 'does-bruise-or-bleed' 'f' 'is w' 'o' '2.94' 'x' '4' 'is h' '5.56'\n",
      " 'class' 'i' '10.07' '7.31' '5.62' 'spore-print-color' 'cap-diameter'\n",
      " '3.11' '16.46' '7.37' 'veil-type' '17.38' '1.66' '6.63' '18.35' '6.75'\n",
      " '2.44' '3.68' '2.25']\n",
      "season: ['a' 'w' 'u' 's']\n"
     ]
    }
   ],
   "source": [
    "# get the unique values in the categorical columns\n",
    "for col in categorical_columns:\n",
    "    print(f'{col}: {df_train[col].unique()}')"
   ]
  },
  {
   "cell_type": "code",
   "execution_count": 8,
   "id": "312b9429",
   "metadata": {
    "execution": {
     "iopub.execute_input": "2024-08-03T18:32:36.729655Z",
     "iopub.status.busy": "2024-08-03T18:32:36.729113Z",
     "iopub.status.idle": "2024-08-03T18:32:46.737338Z",
     "shell.execute_reply": "2024-08-03T18:32:46.736498Z"
    },
    "papermill": {
     "duration": 10.02198,
     "end_time": "2024-08-03T18:32:46.739764",
     "exception": false,
     "start_time": "2024-08-03T18:32:36.717784",
     "status": "completed"
    },
    "tags": []
   },
   "outputs": [],
   "source": [
    "df_train = impute_data(df_train, method='mode')"
   ]
  },
  {
   "cell_type": "code",
   "execution_count": 9,
   "id": "cf0c05d5",
   "metadata": {
    "execution": {
     "iopub.execute_input": "2024-08-03T18:32:46.762473Z",
     "iopub.status.busy": "2024-08-03T18:32:46.762178Z",
     "iopub.status.idle": "2024-08-03T18:32:46.765791Z",
     "shell.execute_reply": "2024-08-03T18:32:46.765067Z"
    },
    "papermill": {
     "duration": 0.016892,
     "end_time": "2024-08-03T18:32:46.767417",
     "exception": false,
     "start_time": "2024-08-03T18:32:46.750525",
     "status": "completed"
    },
    "tags": []
   },
   "outputs": [],
   "source": [
    "categorical_columns.remove('class')"
   ]
  },
  {
   "cell_type": "code",
   "execution_count": 10,
   "id": "021e8ed3",
   "metadata": {
    "execution": {
     "iopub.execute_input": "2024-08-03T18:32:46.789535Z",
     "iopub.status.busy": "2024-08-03T18:32:46.789097Z",
     "iopub.status.idle": "2024-08-03T18:32:47.011273Z",
     "shell.execute_reply": "2024-08-03T18:32:47.010615Z"
    },
    "papermill": {
     "duration": 0.23532,
     "end_time": "2024-08-03T18:32:47.013074",
     "exception": false,
     "start_time": "2024-08-03T18:32:46.777754",
     "status": "completed"
    },
    "tags": []
   },
   "outputs": [],
   "source": [
    "df_train['class'] = np.where(df_train['class'] == 'e', 0, 1)"
   ]
  },
  {
   "cell_type": "code",
   "execution_count": 11,
   "id": "7d8672e2",
   "metadata": {
    "execution": {
     "iopub.execute_input": "2024-08-03T18:32:47.036073Z",
     "iopub.status.busy": "2024-08-03T18:32:47.035345Z",
     "iopub.status.idle": "2024-08-03T18:32:56.583833Z",
     "shell.execute_reply": "2024-08-03T18:32:56.583106Z"
    },
    "papermill": {
     "duration": 9.562054,
     "end_time": "2024-08-03T18:32:56.585739",
     "exception": false,
     "start_time": "2024-08-03T18:32:47.023685",
     "status": "completed"
    },
    "tags": []
   },
   "outputs": [
    {
     "data": {
      "text/html": [
       "<div>\n",
       "<style scoped>\n",
       "    .dataframe tbody tr th:only-of-type {\n",
       "        vertical-align: middle;\n",
       "    }\n",
       "\n",
       "    .dataframe tbody tr th {\n",
       "        vertical-align: top;\n",
       "    }\n",
       "\n",
       "    .dataframe thead th {\n",
       "        text-align: right;\n",
       "    }\n",
       "</style>\n",
       "<table border=\"1\" class=\"dataframe\">\n",
       "  <thead>\n",
       "    <tr style=\"text-align: right;\">\n",
       "      <th></th>\n",
       "      <th>id</th>\n",
       "      <th>class</th>\n",
       "      <th>cap-diameter</th>\n",
       "      <th>cap-shape</th>\n",
       "      <th>cap-surface</th>\n",
       "      <th>cap-color</th>\n",
       "      <th>does-bruise-or-bleed</th>\n",
       "      <th>gill-attachment</th>\n",
       "      <th>gill-spacing</th>\n",
       "      <th>gill-color</th>\n",
       "      <th>...</th>\n",
       "      <th>stem-root</th>\n",
       "      <th>stem-surface</th>\n",
       "      <th>stem-color</th>\n",
       "      <th>veil-type</th>\n",
       "      <th>veil-color</th>\n",
       "      <th>has-ring</th>\n",
       "      <th>ring-type</th>\n",
       "      <th>spore-print-color</th>\n",
       "      <th>habitat</th>\n",
       "      <th>season</th>\n",
       "    </tr>\n",
       "  </thead>\n",
       "  <tbody>\n",
       "    <tr>\n",
       "      <th>0</th>\n",
       "      <td>0</td>\n",
       "      <td>0</td>\n",
       "      <td>8.80</td>\n",
       "      <td>53</td>\n",
       "      <td>72</td>\n",
       "      <td>72</td>\n",
       "      <td>8</td>\n",
       "      <td>44</td>\n",
       "      <td>28</td>\n",
       "      <td>59</td>\n",
       "      <td>...</td>\n",
       "      <td>15</td>\n",
       "      <td>51</td>\n",
       "      <td>55</td>\n",
       "      <td>19</td>\n",
       "      <td>21</td>\n",
       "      <td>5</td>\n",
       "      <td>18</td>\n",
       "      <td>17</td>\n",
       "      <td>25</td>\n",
       "      <td>0</td>\n",
       "    </tr>\n",
       "    <tr>\n",
       "      <th>1</th>\n",
       "      <td>1</td>\n",
       "      <td>1</td>\n",
       "      <td>4.51</td>\n",
       "      <td>71</td>\n",
       "      <td>56</td>\n",
       "      <td>64</td>\n",
       "      <td>8</td>\n",
       "      <td>44</td>\n",
       "      <td>28</td>\n",
       "      <td>46</td>\n",
       "      <td>...</td>\n",
       "      <td>15</td>\n",
       "      <td>58</td>\n",
       "      <td>47</td>\n",
       "      <td>19</td>\n",
       "      <td>21</td>\n",
       "      <td>18</td>\n",
       "      <td>39</td>\n",
       "      <td>17</td>\n",
       "      <td>25</td>\n",
       "      <td>3</td>\n",
       "    </tr>\n",
       "    <tr>\n",
       "      <th>2</th>\n",
       "      <td>2</td>\n",
       "      <td>0</td>\n",
       "      <td>6.94</td>\n",
       "      <td>53</td>\n",
       "      <td>72</td>\n",
       "      <td>49</td>\n",
       "      <td>8</td>\n",
       "      <td>75</td>\n",
       "      <td>28</td>\n",
       "      <td>59</td>\n",
       "      <td>...</td>\n",
       "      <td>15</td>\n",
       "      <td>51</td>\n",
       "      <td>46</td>\n",
       "      <td>19</td>\n",
       "      <td>21</td>\n",
       "      <td>5</td>\n",
       "      <td>18</td>\n",
       "      <td>17</td>\n",
       "      <td>36</td>\n",
       "      <td>3</td>\n",
       "    </tr>\n",
       "    <tr>\n",
       "      <th>3</th>\n",
       "      <td>3</td>\n",
       "      <td>0</td>\n",
       "      <td>3.88</td>\n",
       "      <td>53</td>\n",
       "      <td>81</td>\n",
       "      <td>57</td>\n",
       "      <td>8</td>\n",
       "      <td>70</td>\n",
       "      <td>28</td>\n",
       "      <td>37</td>\n",
       "      <td>...</td>\n",
       "      <td>15</td>\n",
       "      <td>51</td>\n",
       "      <td>55</td>\n",
       "      <td>19</td>\n",
       "      <td>21</td>\n",
       "      <td>5</td>\n",
       "      <td>18</td>\n",
       "      <td>17</td>\n",
       "      <td>25</td>\n",
       "      <td>2</td>\n",
       "    </tr>\n",
       "    <tr>\n",
       "      <th>4</th>\n",
       "      <td>4</td>\n",
       "      <td>0</td>\n",
       "      <td>5.85</td>\n",
       "      <td>71</td>\n",
       "      <td>65</td>\n",
       "      <td>74</td>\n",
       "      <td>8</td>\n",
       "      <td>47</td>\n",
       "      <td>28</td>\n",
       "      <td>59</td>\n",
       "      <td>...</td>\n",
       "      <td>15</td>\n",
       "      <td>51</td>\n",
       "      <td>55</td>\n",
       "      <td>19</td>\n",
       "      <td>21</td>\n",
       "      <td>5</td>\n",
       "      <td>18</td>\n",
       "      <td>17</td>\n",
       "      <td>29</td>\n",
       "      <td>0</td>\n",
       "    </tr>\n",
       "    <tr>\n",
       "      <th>...</th>\n",
       "      <td>...</td>\n",
       "      <td>...</td>\n",
       "      <td>...</td>\n",
       "      <td>...</td>\n",
       "      <td>...</td>\n",
       "      <td>...</td>\n",
       "      <td>...</td>\n",
       "      <td>...</td>\n",
       "      <td>...</td>\n",
       "      <td>...</td>\n",
       "      <td>...</td>\n",
       "      <td>...</td>\n",
       "      <td>...</td>\n",
       "      <td>...</td>\n",
       "      <td>...</td>\n",
       "      <td>...</td>\n",
       "      <td>...</td>\n",
       "      <td>...</td>\n",
       "      <td>...</td>\n",
       "      <td>...</td>\n",
       "      <td>...</td>\n",
       "    </tr>\n",
       "    <tr>\n",
       "      <th>3116940</th>\n",
       "      <td>3116940</td>\n",
       "      <td>0</td>\n",
       "      <td>9.29</td>\n",
       "      <td>53</td>\n",
       "      <td>76</td>\n",
       "      <td>63</td>\n",
       "      <td>20</td>\n",
       "      <td>44</td>\n",
       "      <td>28</td>\n",
       "      <td>59</td>\n",
       "      <td>...</td>\n",
       "      <td>15</td>\n",
       "      <td>51</td>\n",
       "      <td>55</td>\n",
       "      <td>19</td>\n",
       "      <td>21</td>\n",
       "      <td>18</td>\n",
       "      <td>19</td>\n",
       "      <td>17</td>\n",
       "      <td>25</td>\n",
       "      <td>2</td>\n",
       "    </tr>\n",
       "    <tr>\n",
       "      <th>3116941</th>\n",
       "      <td>3116941</td>\n",
       "      <td>0</td>\n",
       "      <td>10.88</td>\n",
       "      <td>67</td>\n",
       "      <td>76</td>\n",
       "      <td>74</td>\n",
       "      <td>20</td>\n",
       "      <td>47</td>\n",
       "      <td>28</td>\n",
       "      <td>48</td>\n",
       "      <td>...</td>\n",
       "      <td>15</td>\n",
       "      <td>51</td>\n",
       "      <td>55</td>\n",
       "      <td>19</td>\n",
       "      <td>21</td>\n",
       "      <td>5</td>\n",
       "      <td>18</td>\n",
       "      <td>17</td>\n",
       "      <td>25</td>\n",
       "      <td>2</td>\n",
       "    </tr>\n",
       "    <tr>\n",
       "      <th>3116942</th>\n",
       "      <td>3116942</td>\n",
       "      <td>1</td>\n",
       "      <td>7.82</td>\n",
       "      <td>71</td>\n",
       "      <td>53</td>\n",
       "      <td>55</td>\n",
       "      <td>8</td>\n",
       "      <td>44</td>\n",
       "      <td>28</td>\n",
       "      <td>59</td>\n",
       "      <td>...</td>\n",
       "      <td>15</td>\n",
       "      <td>51</td>\n",
       "      <td>57</td>\n",
       "      <td>19</td>\n",
       "      <td>21</td>\n",
       "      <td>18</td>\n",
       "      <td>39</td>\n",
       "      <td>17</td>\n",
       "      <td>25</td>\n",
       "      <td>0</td>\n",
       "    </tr>\n",
       "    <tr>\n",
       "      <th>3116943</th>\n",
       "      <td>3116943</td>\n",
       "      <td>0</td>\n",
       "      <td>9.45</td>\n",
       "      <td>64</td>\n",
       "      <td>59</td>\n",
       "      <td>63</td>\n",
       "      <td>20</td>\n",
       "      <td>52</td>\n",
       "      <td>28</td>\n",
       "      <td>48</td>\n",
       "      <td>...</td>\n",
       "      <td>15</td>\n",
       "      <td>58</td>\n",
       "      <td>55</td>\n",
       "      <td>19</td>\n",
       "      <td>21</td>\n",
       "      <td>18</td>\n",
       "      <td>27</td>\n",
       "      <td>17</td>\n",
       "      <td>25</td>\n",
       "      <td>2</td>\n",
       "    </tr>\n",
       "    <tr>\n",
       "      <th>3116944</th>\n",
       "      <td>3116944</td>\n",
       "      <td>1</td>\n",
       "      <td>3.20</td>\n",
       "      <td>71</td>\n",
       "      <td>72</td>\n",
       "      <td>57</td>\n",
       "      <td>8</td>\n",
       "      <td>47</td>\n",
       "      <td>28</td>\n",
       "      <td>59</td>\n",
       "      <td>...</td>\n",
       "      <td>15</td>\n",
       "      <td>51</td>\n",
       "      <td>55</td>\n",
       "      <td>19</td>\n",
       "      <td>21</td>\n",
       "      <td>5</td>\n",
       "      <td>18</td>\n",
       "      <td>17</td>\n",
       "      <td>29</td>\n",
       "      <td>2</td>\n",
       "    </tr>\n",
       "  </tbody>\n",
       "</table>\n",
       "<p>3116945 rows × 22 columns</p>\n",
       "</div>"
      ],
      "text/plain": [
       "              id  class  cap-diameter  cap-shape  cap-surface  cap-color  \\\n",
       "0              0      0          8.80         53           72         72   \n",
       "1              1      1          4.51         71           56         64   \n",
       "2              2      0          6.94         53           72         49   \n",
       "3              3      0          3.88         53           81         57   \n",
       "4              4      0          5.85         71           65         74   \n",
       "...          ...    ...           ...        ...          ...        ...   \n",
       "3116940  3116940      0          9.29         53           76         63   \n",
       "3116941  3116941      0         10.88         67           76         74   \n",
       "3116942  3116942      1          7.82         71           53         55   \n",
       "3116943  3116943      0          9.45         64           59         63   \n",
       "3116944  3116944      1          3.20         71           72         57   \n",
       "\n",
       "         does-bruise-or-bleed  gill-attachment  gill-spacing  gill-color  ...  \\\n",
       "0                           8               44            28          59  ...   \n",
       "1                           8               44            28          46  ...   \n",
       "2                           8               75            28          59  ...   \n",
       "3                           8               70            28          37  ...   \n",
       "4                           8               47            28          59  ...   \n",
       "...                       ...              ...           ...         ...  ...   \n",
       "3116940                    20               44            28          59  ...   \n",
       "3116941                    20               47            28          48  ...   \n",
       "3116942                     8               44            28          59  ...   \n",
       "3116943                    20               52            28          48  ...   \n",
       "3116944                     8               47            28          59  ...   \n",
       "\n",
       "         stem-root  stem-surface  stem-color  veil-type  veil-color  has-ring  \\\n",
       "0               15            51          55         19          21         5   \n",
       "1               15            58          47         19          21        18   \n",
       "2               15            51          46         19          21         5   \n",
       "3               15            51          55         19          21         5   \n",
       "4               15            51          55         19          21         5   \n",
       "...            ...           ...         ...        ...         ...       ...   \n",
       "3116940         15            51          55         19          21        18   \n",
       "3116941         15            51          55         19          21         5   \n",
       "3116942         15            51          57         19          21        18   \n",
       "3116943         15            58          55         19          21        18   \n",
       "3116944         15            51          55         19          21         5   \n",
       "\n",
       "         ring-type  spore-print-color  habitat  season  \n",
       "0               18                 17       25       0  \n",
       "1               39                 17       25       3  \n",
       "2               18                 17       36       3  \n",
       "3               18                 17       25       2  \n",
       "4               18                 17       29       0  \n",
       "...            ...                ...      ...     ...  \n",
       "3116940         19                 17       25       2  \n",
       "3116941         18                 17       25       2  \n",
       "3116942         39                 17       25       0  \n",
       "3116943         27                 17       25       2  \n",
       "3116944         18                 17       29       2  \n",
       "\n",
       "[3116945 rows x 22 columns]"
      ]
     },
     "execution_count": 11,
     "metadata": {},
     "output_type": "execute_result"
    }
   ],
   "source": [
    "# convert the categorical columns to numerical values by label encoding\n",
    "\n",
    "from sklearn.preprocessing import LabelEncoder\n",
    "\n",
    "label_encoder = LabelEncoder()\n",
    "\n",
    "for col in categorical_columns:\n",
    "    df_train[col] = label_encoder.fit_transform(df_train[col])\n",
    "\n",
    "df_train"
   ]
  },
  {
   "cell_type": "code",
   "execution_count": 12,
   "id": "ae3cc4d3",
   "metadata": {
    "execution": {
     "iopub.execute_input": "2024-08-03T18:32:56.614109Z",
     "iopub.status.busy": "2024-08-03T18:32:56.613438Z",
     "iopub.status.idle": "2024-08-03T18:32:56.884701Z",
     "shell.execute_reply": "2024-08-03T18:32:56.883852Z"
    },
    "papermill": {
     "duration": 0.287454,
     "end_time": "2024-08-03T18:32:56.887518",
     "exception": false,
     "start_time": "2024-08-03T18:32:56.600064",
     "status": "completed"
    },
    "tags": []
   },
   "outputs": [
    {
     "name": "stdout",
     "output_type": "stream",
     "text": [
      "cap-shape: [53 71 64 48 63 50 67 51 52 62 70 59 60  9 31 68 54 73 47 13 38 65 69 23\n",
      " 58 72 26 24 16 56 34 17 43 61 66  2 57 41 55  0  3 11 14  5 32  7 29 30\n",
      " 49 46  1 21 39 20  4 18 27 40 35 44 33 15 22 19 10 25 36 45 42  6 28 12\n",
      " 37  8]\n",
      "cap-surface: [72 56 81 65 76 53 55 47 59 79 64 14 54 67 70 68 42 77 82 18 50 31 69 43\n",
      " 66 45  6 80 36 44 61 51  0 35 12 33 28 22 24 15 27 78 10 39 58 49  5 46\n",
      " 57 48  9 73 40 13 32 60 23 20  2 16 19 71 52 29 75 74 21 17 37 63 26 25\n",
      " 30 11 38 41  4 34  8  7  3 62  1]\n",
      "cap-color: [72 64 49 57 74 63 55 76 66 65 60 61 59 58 52 68 48 56 10 69 50 75  6 43\n",
      " 62 77 39 42 71 67 51  5 46 20 19  0  1  9 26 53 30 35 18 37 31 27 54 38\n",
      " 32 73 40 33  3 24 11  8 12 44  4 23 13 29  7 25 41 14 36 34  2 22 28 17\n",
      " 70 16 15 21 45 47]\n",
      "does-bruise-or-bleed: [ 8 20  6 11 22 16  4 23 17  9 24 18  3 14 12  5 15 25 19 13 10  1  7  2\n",
      "  0 21]\n",
      "gill-attachment: [44 75 70 47 52 53 66 62 63 45 28 64 54 58 73 51 72 65 46 74 30 61 68 31\n",
      " 55 67 39 77 71 76 42 49 57 69 14  7 22 21 38 27 48  6 36  0 25  1 59 26\n",
      " 33  9 56  2 41 34 17 18 35 16 12 29 40 50 24 10  3 23 37 43 19 15  4 32\n",
      "  5 13  8 20 60 11]\n",
      "gill-spacing: [28 31 34 46 27 26 11  7 38 17 33 47 30 43 25 41 14 18 24 15 44  1 37 10\n",
      "  8 45 36 29 39  2  6 19 42  4 40 35  0 13 16  3  9 20 21 12 32 23  5 22]\n",
      "gill-color: [59 46 37 43 61 36 48 47 27 57 34 49 30 56 12 62 16 10 52 38 60 51 13 29\n",
      " 28 45 53  0  7 44 32 26 21 22 18 40 14 25 17 50 11 41  5  2 55  9 54  6\n",
      " 33 24 39  3 15 19 42 35  1 31  4 20 58  8 23]\n",
      "stem-root: [15 16 29 30 19 12  6  8 36 27 23 17 26 34 33 28 35 22  1 14 11 32 25 24\n",
      " 21 20  4  3  0  9 18  7  5 37 31 10  2 13]\n",
      "stem-surface: [51 58 54 39 40 44 43 38 45 33 57  6 56 29 48 31 47 46 37 49 59 26 16 30\n",
      " 15 50 13  2  0 25 24 55 52  4 14 23 17 21 22 32 42  7  9 20 27 34  1 35\n",
      " 28 41 36  3 19 10 11 18 53  5 12  8]\n",
      "stem-color: [55 47 46 57 35 54 48 37 38 49 43 44 31 12 53 58 30 39 34 51 25 41 40 32\n",
      " 56 36  1 45 17 50  7 52 10 28 42 11 22 27 33  6 29 20  0  3 14  2 16  8\n",
      " 26  9 24 23 15 13 21  5 18  4 19]\n",
      "veil-type: [19  5  2  9  0  8  4  6 21 10  7 11 18 20 15  3 17 12 16 13 14  1]\n",
      "veil-color: [21 14 12 22  7 20 16  6  9 17 10 18  2 19  5 15 11  0  8  3  4 13 23  1]\n",
      "has-ring: [ 5 18  8 16 21  2  4  7 11 17 15 20 10 22  6  3 14 13 12  9  0 19  1]\n"
     ]
    },
    {
     "name": "stdout",
     "output_type": "stream",
     "text": [
      "ring-type: [18 39 17 27 23 19 28 24 38 20 26 34 29 10 14 30 37  8 11  3 35 25 36 15\n",
      "  7 21 31 22 12 16  1  6  0  2  4 33 13 32  5  9]\n",
      "spore-print-color: [17 29 22 20 23 27 14 26 13 11 18 31  7 24  1 12 21  9  8  0 15 30  5 16\n",
      " 19 28 10  2 25  6  4  3]\n",
      "habitat: [25 36 29 30 40 37 46 48 50 38 20 43 35 31 51 18  3 21 45 22 19 42 27 41\n",
      " 26 28 34 39  8 49 11 33 12 24 32  1 16 13 44 23  9  2 17 47  4  0 14  5\n",
      " 15  7 10  6]\n",
      "season: [0 3 2 1]\n"
     ]
    }
   ],
   "source": [
    "# print the unique values in the categorical columns after label encoding\n",
    "for col in categorical_columns:\n",
    "    print(f'{col}: {df_train[col].unique()}')"
   ]
  },
  {
   "cell_type": "code",
   "execution_count": 13,
   "id": "ec73d528",
   "metadata": {
    "execution": {
     "iopub.execute_input": "2024-08-03T18:32:56.928742Z",
     "iopub.status.busy": "2024-08-03T18:32:56.927856Z",
     "iopub.status.idle": "2024-08-03T18:33:02.334067Z",
     "shell.execute_reply": "2024-08-03T18:33:02.333195Z"
    },
    "papermill": {
     "duration": 5.427564,
     "end_time": "2024-08-03T18:33:02.339974",
     "exception": false,
     "start_time": "2024-08-03T18:32:56.912410",
     "status": "completed"
    },
    "tags": []
   },
   "outputs": [
    {
     "data": {
      "text/plain": [
       "<Axes: >"
      ]
     },
     "execution_count": 13,
     "metadata": {},
     "output_type": "execute_result"
    },
    {
     "data": {
      "image/png": "[encoded data removed]",
      "text/plain": [
       "<Figure size 1200x1000 with 2 Axes>"
      ]
     },
     "metadata": {},
     "output_type": "display_data"
    }
   ],
   "source": [
    "# plot a correlation matrix\n",
    "import seaborn as sns\n",
    "\n",
    "corr = df_train.corr()\n",
    "plt.figure(figsize=(12,10))\n",
    "sns.heatmap(corr, annot=True, cmap='coolwarm')"
   ]
  },
  {
   "cell_type": "code",
   "execution_count": 14,
   "id": "f429a9d6",
   "metadata": {
    "execution": {
     "iopub.execute_input": "2024-08-03T18:33:02.375976Z",
     "iopub.status.busy": "2024-08-03T18:33:02.375456Z",
     "iopub.status.idle": "2024-08-03T18:33:09.670339Z",
     "shell.execute_reply": "2024-08-03T18:33:09.668496Z"
    },
    "papermill": {
     "duration": 7.315272,
     "end_time": "2024-08-03T18:33:09.672688",
     "exception": false,
     "start_time": "2024-08-03T18:33:02.357416",
     "status": "completed"
    },
    "tags": []
   },
   "outputs": [
    {
     "name": "stdout",
     "output_type": "stream",
     "text": [
      "Accuracy with Logistic Regression: 0.6521995094555727\n"
     ]
    }
   ],
   "source": [
    "# perform logisitc regression on the dataset for y=Target\n",
    "from sklearn.model_selection import train_test_split\n",
    "from sklearn.linear_model import LogisticRegression\n",
    "from sklearn.metrics import accuracy_score\n",
    "from sklearn.preprocessing import StandardScaler\n",
    "from sklearn.pipeline import make_pipeline\n",
    "\n",
    "X = df_train.drop(['id','class'], axis=1)\n",
    "\n",
    "y = df_train['class']\n",
    "\n",
    "# divide the dataset into training and testing set\n",
    "X_train, X_test, y_train, y_test = train_test_split(X, y, test_size=0.2, random_state=42)\n",
    "\n",
    "# instantiate the model\n",
    "#model = LogisticRegression()\n",
    "model = make_pipeline(StandardScaler(), LogisticRegression(max_iter=10000))\n",
    "\n",
    "# fit the model\n",
    "model.fit(X_train, y_train)\n",
    "\n",
    "# make predictions\n",
    "y_pred = model.predict(X_test)\n",
    "\n",
    "# evaluate the model\n",
    "accuracy = accuracy_score(y_test, y_pred)\n",
    "\n",
    "print(f'Accuracy with Logistic Regression: {accuracy}')"
   ]
  },
  {
   "cell_type": "code",
   "execution_count": 15,
   "id": "52f4b422",
   "metadata": {
    "execution": {
     "iopub.execute_input": "2024-08-03T18:33:09.714770Z",
     "iopub.status.busy": "2024-08-03T18:33:09.712880Z",
     "iopub.status.idle": "2024-08-03T18:33:16.338172Z",
     "shell.execute_reply": "2024-08-03T18:33:16.337294Z"
    },
    "papermill": {
     "duration": 6.649607,
     "end_time": "2024-08-03T18:33:16.340053",
     "exception": false,
     "start_time": "2024-08-03T18:33:09.690446",
     "status": "completed"
    },
    "tags": []
   },
   "outputs": [
    {
     "data": {
      "text/html": [
       "<div>\n",
       "<style scoped>\n",
       "    .dataframe tbody tr th:only-of-type {\n",
       "        vertical-align: middle;\n",
       "    }\n",
       "\n",
       "    .dataframe tbody tr th {\n",
       "        vertical-align: top;\n",
       "    }\n",
       "\n",
       "    .dataframe thead th {\n",
       "        text-align: right;\n",
       "    }\n",
       "</style>\n",
       "<table border=\"1\" class=\"dataframe\">\n",
       "  <thead>\n",
       "    <tr style=\"text-align: right;\">\n",
       "      <th></th>\n",
       "      <th>id</th>\n",
       "      <th>cap-diameter</th>\n",
       "      <th>cap-shape</th>\n",
       "      <th>cap-surface</th>\n",
       "      <th>cap-color</th>\n",
       "      <th>does-bruise-or-bleed</th>\n",
       "      <th>gill-attachment</th>\n",
       "      <th>gill-spacing</th>\n",
       "      <th>gill-color</th>\n",
       "      <th>stem-height</th>\n",
       "      <th>...</th>\n",
       "      <th>stem-root</th>\n",
       "      <th>stem-surface</th>\n",
       "      <th>stem-color</th>\n",
       "      <th>veil-type</th>\n",
       "      <th>veil-color</th>\n",
       "      <th>has-ring</th>\n",
       "      <th>ring-type</th>\n",
       "      <th>spore-print-color</th>\n",
       "      <th>habitat</th>\n",
       "      <th>season</th>\n",
       "    </tr>\n",
       "  </thead>\n",
       "  <tbody>\n",
       "    <tr>\n",
       "      <th>0</th>\n",
       "      <td>3116945</td>\n",
       "      <td>8.64</td>\n",
       "      <td>x</td>\n",
       "      <td>NaN</td>\n",
       "      <td>n</td>\n",
       "      <td>t</td>\n",
       "      <td>NaN</td>\n",
       "      <td>NaN</td>\n",
       "      <td>w</td>\n",
       "      <td>11.13</td>\n",
       "      <td>...</td>\n",
       "      <td>b</td>\n",
       "      <td>NaN</td>\n",
       "      <td>w</td>\n",
       "      <td>u</td>\n",
       "      <td>w</td>\n",
       "      <td>t</td>\n",
       "      <td>g</td>\n",
       "      <td>NaN</td>\n",
       "      <td>d</td>\n",
       "      <td>a</td>\n",
       "    </tr>\n",
       "    <tr>\n",
       "      <th>1</th>\n",
       "      <td>3116946</td>\n",
       "      <td>6.90</td>\n",
       "      <td>o</td>\n",
       "      <td>t</td>\n",
       "      <td>o</td>\n",
       "      <td>f</td>\n",
       "      <td>NaN</td>\n",
       "      <td>c</td>\n",
       "      <td>y</td>\n",
       "      <td>1.27</td>\n",
       "      <td>...</td>\n",
       "      <td>NaN</td>\n",
       "      <td>NaN</td>\n",
       "      <td>n</td>\n",
       "      <td>NaN</td>\n",
       "      <td>NaN</td>\n",
       "      <td>f</td>\n",
       "      <td>f</td>\n",
       "      <td>NaN</td>\n",
       "      <td>d</td>\n",
       "      <td>a</td>\n",
       "    </tr>\n",
       "    <tr>\n",
       "      <th>2</th>\n",
       "      <td>3116947</td>\n",
       "      <td>2.00</td>\n",
       "      <td>b</td>\n",
       "      <td>g</td>\n",
       "      <td>n</td>\n",
       "      <td>f</td>\n",
       "      <td>NaN</td>\n",
       "      <td>c</td>\n",
       "      <td>n</td>\n",
       "      <td>6.18</td>\n",
       "      <td>...</td>\n",
       "      <td>NaN</td>\n",
       "      <td>NaN</td>\n",
       "      <td>n</td>\n",
       "      <td>NaN</td>\n",
       "      <td>NaN</td>\n",
       "      <td>f</td>\n",
       "      <td>f</td>\n",
       "      <td>NaN</td>\n",
       "      <td>d</td>\n",
       "      <td>s</td>\n",
       "    </tr>\n",
       "    <tr>\n",
       "      <th>3</th>\n",
       "      <td>3116948</td>\n",
       "      <td>3.47</td>\n",
       "      <td>x</td>\n",
       "      <td>t</td>\n",
       "      <td>n</td>\n",
       "      <td>f</td>\n",
       "      <td>s</td>\n",
       "      <td>c</td>\n",
       "      <td>n</td>\n",
       "      <td>4.98</td>\n",
       "      <td>...</td>\n",
       "      <td>NaN</td>\n",
       "      <td>NaN</td>\n",
       "      <td>w</td>\n",
       "      <td>NaN</td>\n",
       "      <td>n</td>\n",
       "      <td>t</td>\n",
       "      <td>z</td>\n",
       "      <td>NaN</td>\n",
       "      <td>d</td>\n",
       "      <td>u</td>\n",
       "    </tr>\n",
       "    <tr>\n",
       "      <th>4</th>\n",
       "      <td>3116949</td>\n",
       "      <td>6.17</td>\n",
       "      <td>x</td>\n",
       "      <td>h</td>\n",
       "      <td>y</td>\n",
       "      <td>f</td>\n",
       "      <td>p</td>\n",
       "      <td>NaN</td>\n",
       "      <td>y</td>\n",
       "      <td>6.73</td>\n",
       "      <td>...</td>\n",
       "      <td>NaN</td>\n",
       "      <td>NaN</td>\n",
       "      <td>y</td>\n",
       "      <td>NaN</td>\n",
       "      <td>y</td>\n",
       "      <td>t</td>\n",
       "      <td>NaN</td>\n",
       "      <td>NaN</td>\n",
       "      <td>d</td>\n",
       "      <td>u</td>\n",
       "    </tr>\n",
       "    <tr>\n",
       "      <th>...</th>\n",
       "      <td>...</td>\n",
       "      <td>...</td>\n",
       "      <td>...</td>\n",
       "      <td>...</td>\n",
       "      <td>...</td>\n",
       "      <td>...</td>\n",
       "      <td>...</td>\n",
       "      <td>...</td>\n",
       "      <td>...</td>\n",
       "      <td>...</td>\n",
       "      <td>...</td>\n",
       "      <td>...</td>\n",
       "      <td>...</td>\n",
       "      <td>...</td>\n",
       "      <td>...</td>\n",
       "      <td>...</td>\n",
       "      <td>...</td>\n",
       "      <td>...</td>\n",
       "      <td>...</td>\n",
       "      <td>...</td>\n",
       "      <td>...</td>\n",
       "    </tr>\n",
       "    <tr>\n",
       "      <th>2077959</th>\n",
       "      <td>5194904</td>\n",
       "      <td>0.88</td>\n",
       "      <td>x</td>\n",
       "      <td>g</td>\n",
       "      <td>w</td>\n",
       "      <td>f</td>\n",
       "      <td>a</td>\n",
       "      <td>d</td>\n",
       "      <td>w</td>\n",
       "      <td>2.67</td>\n",
       "      <td>...</td>\n",
       "      <td>NaN</td>\n",
       "      <td>NaN</td>\n",
       "      <td>e</td>\n",
       "      <td>NaN</td>\n",
       "      <td>NaN</td>\n",
       "      <td>f</td>\n",
       "      <td>f</td>\n",
       "      <td>NaN</td>\n",
       "      <td>d</td>\n",
       "      <td>u</td>\n",
       "    </tr>\n",
       "    <tr>\n",
       "      <th>2077960</th>\n",
       "      <td>5194905</td>\n",
       "      <td>3.12</td>\n",
       "      <td>x</td>\n",
       "      <td>s</td>\n",
       "      <td>w</td>\n",
       "      <td>f</td>\n",
       "      <td>d</td>\n",
       "      <td>c</td>\n",
       "      <td>w</td>\n",
       "      <td>2.69</td>\n",
       "      <td>...</td>\n",
       "      <td>NaN</td>\n",
       "      <td>NaN</td>\n",
       "      <td>w</td>\n",
       "      <td>NaN</td>\n",
       "      <td>NaN</td>\n",
       "      <td>f</td>\n",
       "      <td>f</td>\n",
       "      <td>NaN</td>\n",
       "      <td>g</td>\n",
       "      <td>a</td>\n",
       "    </tr>\n",
       "    <tr>\n",
       "      <th>2077961</th>\n",
       "      <td>5194906</td>\n",
       "      <td>5.73</td>\n",
       "      <td>x</td>\n",
       "      <td>e</td>\n",
       "      <td>e</td>\n",
       "      <td>f</td>\n",
       "      <td>a</td>\n",
       "      <td>NaN</td>\n",
       "      <td>w</td>\n",
       "      <td>6.16</td>\n",
       "      <td>...</td>\n",
       "      <td>NaN</td>\n",
       "      <td>NaN</td>\n",
       "      <td>y</td>\n",
       "      <td>NaN</td>\n",
       "      <td>w</td>\n",
       "      <td>t</td>\n",
       "      <td>z</td>\n",
       "      <td>NaN</td>\n",
       "      <td>d</td>\n",
       "      <td>a</td>\n",
       "    </tr>\n",
       "    <tr>\n",
       "      <th>2077962</th>\n",
       "      <td>5194907</td>\n",
       "      <td>5.03</td>\n",
       "      <td>b</td>\n",
       "      <td>g</td>\n",
       "      <td>n</td>\n",
       "      <td>f</td>\n",
       "      <td>a</td>\n",
       "      <td>d</td>\n",
       "      <td>g</td>\n",
       "      <td>6.00</td>\n",
       "      <td>...</td>\n",
       "      <td>NaN</td>\n",
       "      <td>s</td>\n",
       "      <td>g</td>\n",
       "      <td>NaN</td>\n",
       "      <td>NaN</td>\n",
       "      <td>f</td>\n",
       "      <td>f</td>\n",
       "      <td>NaN</td>\n",
       "      <td>d</td>\n",
       "      <td>a</td>\n",
       "    </tr>\n",
       "    <tr>\n",
       "      <th>2077963</th>\n",
       "      <td>5194908</td>\n",
       "      <td>15.51</td>\n",
       "      <td>f</td>\n",
       "      <td>NaN</td>\n",
       "      <td>w</td>\n",
       "      <td>f</td>\n",
       "      <td>d</td>\n",
       "      <td>c</td>\n",
       "      <td>y</td>\n",
       "      <td>2.69</td>\n",
       "      <td>...</td>\n",
       "      <td>NaN</td>\n",
       "      <td>NaN</td>\n",
       "      <td>w</td>\n",
       "      <td>NaN</td>\n",
       "      <td>NaN</td>\n",
       "      <td>f</td>\n",
       "      <td>f</td>\n",
       "      <td>NaN</td>\n",
       "      <td>d</td>\n",
       "      <td>w</td>\n",
       "    </tr>\n",
       "  </tbody>\n",
       "</table>\n",
       "<p>2077964 rows × 21 columns</p>\n",
       "</div>"
      ],
      "text/plain": [
       "              id  cap-diameter cap-shape cap-surface cap-color  \\\n",
       "0        3116945          8.64         x         NaN         n   \n",
       "1        3116946          6.90         o           t         o   \n",
       "2        3116947          2.00         b           g         n   \n",
       "3        3116948          3.47         x           t         n   \n",
       "4        3116949          6.17         x           h         y   \n",
       "...          ...           ...       ...         ...       ...   \n",
       "2077959  5194904          0.88         x           g         w   \n",
       "2077960  5194905          3.12         x           s         w   \n",
       "2077961  5194906          5.73         x           e         e   \n",
       "2077962  5194907          5.03         b           g         n   \n",
       "2077963  5194908         15.51         f         NaN         w   \n",
       "\n",
       "        does-bruise-or-bleed gill-attachment gill-spacing gill-color  \\\n",
       "0                          t             NaN          NaN          w   \n",
       "1                          f             NaN            c          y   \n",
       "2                          f             NaN            c          n   \n",
       "3                          f               s            c          n   \n",
       "4                          f               p          NaN          y   \n",
       "...                      ...             ...          ...        ...   \n",
       "2077959                    f               a            d          w   \n",
       "2077960                    f               d            c          w   \n",
       "2077961                    f               a          NaN          w   \n",
       "2077962                    f               a            d          g   \n",
       "2077963                    f               d            c          y   \n",
       "\n",
       "         stem-height  ...  stem-root stem-surface stem-color veil-type  \\\n",
       "0              11.13  ...          b          NaN          w         u   \n",
       "1               1.27  ...        NaN          NaN          n       NaN   \n",
       "2               6.18  ...        NaN          NaN          n       NaN   \n",
       "3               4.98  ...        NaN          NaN          w       NaN   \n",
       "4               6.73  ...        NaN          NaN          y       NaN   \n",
       "...              ...  ...        ...          ...        ...       ...   \n",
       "2077959         2.67  ...        NaN          NaN          e       NaN   \n",
       "2077960         2.69  ...        NaN          NaN          w       NaN   \n",
       "2077961         6.16  ...        NaN          NaN          y       NaN   \n",
       "2077962         6.00  ...        NaN            s          g       NaN   \n",
       "2077963         2.69  ...        NaN          NaN          w       NaN   \n",
       "\n",
       "        veil-color has-ring ring-type spore-print-color habitat season  \n",
       "0                w        t         g               NaN       d      a  \n",
       "1              NaN        f         f               NaN       d      a  \n",
       "2              NaN        f         f               NaN       d      s  \n",
       "3                n        t         z               NaN       d      u  \n",
       "4                y        t       NaN               NaN       d      u  \n",
       "...            ...      ...       ...               ...     ...    ...  \n",
       "2077959        NaN        f         f               NaN       d      u  \n",
       "2077960        NaN        f         f               NaN       g      a  \n",
       "2077961          w        t         z               NaN       d      a  \n",
       "2077962        NaN        f         f               NaN       d      a  \n",
       "2077963        NaN        f         f               NaN       d      w  \n",
       "\n",
       "[2077964 rows x 21 columns]"
      ]
     },
     "execution_count": 15,
     "metadata": {},
     "output_type": "execute_result"
    }
   ],
   "source": [
    "# read the test set\n",
    "df_test = pd.read_csv('/kaggle/input/playground-series-s4e8/test.csv')\n",
    "\n",
    "df_test"
   ]
  },
  {
   "cell_type": "code",
   "execution_count": 16,
   "id": "8b7ab81a",
   "metadata": {
    "execution": {
     "iopub.execute_input": "2024-08-03T18:33:16.372757Z",
     "iopub.status.busy": "2024-08-03T18:33:16.372499Z",
     "iopub.status.idle": "2024-08-03T18:33:22.646843Z",
     "shell.execute_reply": "2024-08-03T18:33:22.646039Z"
    },
    "papermill": {
     "duration": 6.293406,
     "end_time": "2024-08-03T18:33:22.649157",
     "exception": false,
     "start_time": "2024-08-03T18:33:16.355751",
     "status": "completed"
    },
    "tags": []
   },
   "outputs": [],
   "source": [
    "df_test = impute_data(df_test, method='mode')"
   ]
  },
  {
   "cell_type": "code",
   "execution_count": 17,
   "id": "ef685317",
   "metadata": {
    "execution": {
     "iopub.execute_input": "2024-08-03T18:33:22.684765Z",
     "iopub.status.busy": "2024-08-03T18:33:22.684469Z",
     "iopub.status.idle": "2024-08-03T18:33:29.103395Z",
     "shell.execute_reply": "2024-08-03T18:33:29.102693Z"
    },
    "papermill": {
     "duration": 6.437818,
     "end_time": "2024-08-03T18:33:29.105146",
     "exception": false,
     "start_time": "2024-08-03T18:33:22.667328",
     "status": "completed"
    },
    "tags": []
   },
   "outputs": [
    {
     "data": {
      "text/html": [
       "<div>\n",
       "<style scoped>\n",
       "    .dataframe tbody tr th:only-of-type {\n",
       "        vertical-align: middle;\n",
       "    }\n",
       "\n",
       "    .dataframe tbody tr th {\n",
       "        vertical-align: top;\n",
       "    }\n",
       "\n",
       "    .dataframe thead th {\n",
       "        text-align: right;\n",
       "    }\n",
       "</style>\n",
       "<table border=\"1\" class=\"dataframe\">\n",
       "  <thead>\n",
       "    <tr style=\"text-align: right;\">\n",
       "      <th></th>\n",
       "      <th>id</th>\n",
       "      <th>cap-diameter</th>\n",
       "      <th>cap-shape</th>\n",
       "      <th>cap-surface</th>\n",
       "      <th>cap-color</th>\n",
       "      <th>does-bruise-or-bleed</th>\n",
       "      <th>gill-attachment</th>\n",
       "      <th>gill-spacing</th>\n",
       "      <th>gill-color</th>\n",
       "      <th>stem-height</th>\n",
       "      <th>...</th>\n",
       "      <th>stem-root</th>\n",
       "      <th>stem-surface</th>\n",
       "      <th>stem-color</th>\n",
       "      <th>veil-type</th>\n",
       "      <th>veil-color</th>\n",
       "      <th>has-ring</th>\n",
       "      <th>ring-type</th>\n",
       "      <th>spore-print-color</th>\n",
       "      <th>habitat</th>\n",
       "      <th>season</th>\n",
       "    </tr>\n",
       "  </thead>\n",
       "  <tbody>\n",
       "    <tr>\n",
       "      <th>0</th>\n",
       "      <td>3116945</td>\n",
       "      <td>8.64</td>\n",
       "      <td>59</td>\n",
       "      <td>53</td>\n",
       "      <td>44</td>\n",
       "      <td>18</td>\n",
       "      <td>37</td>\n",
       "      <td>17</td>\n",
       "      <td>52</td>\n",
       "      <td>11.13</td>\n",
       "      <td>...</td>\n",
       "      <td>9</td>\n",
       "      <td>45</td>\n",
       "      <td>51</td>\n",
       "      <td>12</td>\n",
       "      <td>21</td>\n",
       "      <td>17</td>\n",
       "      <td>15</td>\n",
       "      <td>18</td>\n",
       "      <td>16</td>\n",
       "      <td>0</td>\n",
       "    </tr>\n",
       "    <tr>\n",
       "      <th>1</th>\n",
       "      <td>3116946</td>\n",
       "      <td>6.90</td>\n",
       "      <td>50</td>\n",
       "      <td>53</td>\n",
       "      <td>45</td>\n",
       "      <td>5</td>\n",
       "      <td>37</td>\n",
       "      <td>17</td>\n",
       "      <td>54</td>\n",
       "      <td>1.27</td>\n",
       "      <td>...</td>\n",
       "      <td>9</td>\n",
       "      <td>45</td>\n",
       "      <td>38</td>\n",
       "      <td>12</td>\n",
       "      <td>21</td>\n",
       "      <td>6</td>\n",
       "      <td>14</td>\n",
       "      <td>18</td>\n",
       "      <td>16</td>\n",
       "      <td>0</td>\n",
       "    </tr>\n",
       "    <tr>\n",
       "      <th>2</th>\n",
       "      <td>3116947</td>\n",
       "      <td>2.00</td>\n",
       "      <td>36</td>\n",
       "      <td>38</td>\n",
       "      <td>44</td>\n",
       "      <td>5</td>\n",
       "      <td>37</td>\n",
       "      <td>17</td>\n",
       "      <td>41</td>\n",
       "      <td>6.18</td>\n",
       "      <td>...</td>\n",
       "      <td>9</td>\n",
       "      <td>45</td>\n",
       "      <td>38</td>\n",
       "      <td>12</td>\n",
       "      <td>21</td>\n",
       "      <td>6</td>\n",
       "      <td>14</td>\n",
       "      <td>18</td>\n",
       "      <td>16</td>\n",
       "      <td>1</td>\n",
       "    </tr>\n",
       "    <tr>\n",
       "      <th>3</th>\n",
       "      <td>3116948</td>\n",
       "      <td>3.47</td>\n",
       "      <td>59</td>\n",
       "      <td>53</td>\n",
       "      <td>44</td>\n",
       "      <td>5</td>\n",
       "      <td>57</td>\n",
       "      <td>17</td>\n",
       "      <td>41</td>\n",
       "      <td>4.98</td>\n",
       "      <td>...</td>\n",
       "      <td>9</td>\n",
       "      <td>45</td>\n",
       "      <td>51</td>\n",
       "      <td>12</td>\n",
       "      <td>14</td>\n",
       "      <td>17</td>\n",
       "      <td>35</td>\n",
       "      <td>18</td>\n",
       "      <td>16</td>\n",
       "      <td>2</td>\n",
       "    </tr>\n",
       "    <tr>\n",
       "      <th>4</th>\n",
       "      <td>3116949</td>\n",
       "      <td>6.17</td>\n",
       "      <td>59</td>\n",
       "      <td>39</td>\n",
       "      <td>55</td>\n",
       "      <td>5</td>\n",
       "      <td>55</td>\n",
       "      <td>17</td>\n",
       "      <td>54</td>\n",
       "      <td>6.73</td>\n",
       "      <td>...</td>\n",
       "      <td>9</td>\n",
       "      <td>45</td>\n",
       "      <td>53</td>\n",
       "      <td>12</td>\n",
       "      <td>22</td>\n",
       "      <td>17</td>\n",
       "      <td>14</td>\n",
       "      <td>18</td>\n",
       "      <td>16</td>\n",
       "      <td>2</td>\n",
       "    </tr>\n",
       "    <tr>\n",
       "      <th>...</th>\n",
       "      <td>...</td>\n",
       "      <td>...</td>\n",
       "      <td>...</td>\n",
       "      <td>...</td>\n",
       "      <td>...</td>\n",
       "      <td>...</td>\n",
       "      <td>...</td>\n",
       "      <td>...</td>\n",
       "      <td>...</td>\n",
       "      <td>...</td>\n",
       "      <td>...</td>\n",
       "      <td>...</td>\n",
       "      <td>...</td>\n",
       "      <td>...</td>\n",
       "      <td>...</td>\n",
       "      <td>...</td>\n",
       "      <td>...</td>\n",
       "      <td>...</td>\n",
       "      <td>...</td>\n",
       "      <td>...</td>\n",
       "      <td>...</td>\n",
       "    </tr>\n",
       "    <tr>\n",
       "      <th>2077959</th>\n",
       "      <td>5194904</td>\n",
       "      <td>0.88</td>\n",
       "      <td>59</td>\n",
       "      <td>38</td>\n",
       "      <td>53</td>\n",
       "      <td>5</td>\n",
       "      <td>37</td>\n",
       "      <td>18</td>\n",
       "      <td>52</td>\n",
       "      <td>2.67</td>\n",
       "      <td>...</td>\n",
       "      <td>9</td>\n",
       "      <td>45</td>\n",
       "      <td>29</td>\n",
       "      <td>12</td>\n",
       "      <td>21</td>\n",
       "      <td>6</td>\n",
       "      <td>14</td>\n",
       "      <td>18</td>\n",
       "      <td>16</td>\n",
       "      <td>2</td>\n",
       "    </tr>\n",
       "    <tr>\n",
       "      <th>2077960</th>\n",
       "      <td>5194905</td>\n",
       "      <td>3.12</td>\n",
       "      <td>59</td>\n",
       "      <td>50</td>\n",
       "      <td>53</td>\n",
       "      <td>5</td>\n",
       "      <td>41</td>\n",
       "      <td>17</td>\n",
       "      <td>52</td>\n",
       "      <td>2.69</td>\n",
       "      <td>...</td>\n",
       "      <td>9</td>\n",
       "      <td>45</td>\n",
       "      <td>51</td>\n",
       "      <td>12</td>\n",
       "      <td>21</td>\n",
       "      <td>6</td>\n",
       "      <td>14</td>\n",
       "      <td>18</td>\n",
       "      <td>19</td>\n",
       "      <td>0</td>\n",
       "    </tr>\n",
       "    <tr>\n",
       "      <th>2077961</th>\n",
       "      <td>5194906</td>\n",
       "      <td>5.73</td>\n",
       "      <td>59</td>\n",
       "      <td>36</td>\n",
       "      <td>34</td>\n",
       "      <td>5</td>\n",
       "      <td>37</td>\n",
       "      <td>17</td>\n",
       "      <td>52</td>\n",
       "      <td>6.16</td>\n",
       "      <td>...</td>\n",
       "      <td>9</td>\n",
       "      <td>45</td>\n",
       "      <td>53</td>\n",
       "      <td>12</td>\n",
       "      <td>21</td>\n",
       "      <td>17</td>\n",
       "      <td>35</td>\n",
       "      <td>18</td>\n",
       "      <td>16</td>\n",
       "      <td>0</td>\n",
       "    </tr>\n",
       "    <tr>\n",
       "      <th>2077962</th>\n",
       "      <td>5194907</td>\n",
       "      <td>5.03</td>\n",
       "      <td>36</td>\n",
       "      <td>38</td>\n",
       "      <td>44</td>\n",
       "      <td>5</td>\n",
       "      <td>37</td>\n",
       "      <td>18</td>\n",
       "      <td>31</td>\n",
       "      <td>6.00</td>\n",
       "      <td>...</td>\n",
       "      <td>9</td>\n",
       "      <td>45</td>\n",
       "      <td>31</td>\n",
       "      <td>12</td>\n",
       "      <td>21</td>\n",
       "      <td>6</td>\n",
       "      <td>14</td>\n",
       "      <td>18</td>\n",
       "      <td>16</td>\n",
       "      <td>0</td>\n",
       "    </tr>\n",
       "    <tr>\n",
       "      <th>2077963</th>\n",
       "      <td>5194908</td>\n",
       "      <td>15.51</td>\n",
       "      <td>41</td>\n",
       "      <td>53</td>\n",
       "      <td>53</td>\n",
       "      <td>5</td>\n",
       "      <td>41</td>\n",
       "      <td>17</td>\n",
       "      <td>54</td>\n",
       "      <td>2.69</td>\n",
       "      <td>...</td>\n",
       "      <td>9</td>\n",
       "      <td>45</td>\n",
       "      <td>51</td>\n",
       "      <td>12</td>\n",
       "      <td>21</td>\n",
       "      <td>6</td>\n",
       "      <td>14</td>\n",
       "      <td>18</td>\n",
       "      <td>16</td>\n",
       "      <td>3</td>\n",
       "    </tr>\n",
       "  </tbody>\n",
       "</table>\n",
       "<p>2077964 rows × 21 columns</p>\n",
       "</div>"
      ],
      "text/plain": [
       "              id  cap-diameter  cap-shape  cap-surface  cap-color  \\\n",
       "0        3116945          8.64         59           53         44   \n",
       "1        3116946          6.90         50           53         45   \n",
       "2        3116947          2.00         36           38         44   \n",
       "3        3116948          3.47         59           53         44   \n",
       "4        3116949          6.17         59           39         55   \n",
       "...          ...           ...        ...          ...        ...   \n",
       "2077959  5194904          0.88         59           38         53   \n",
       "2077960  5194905          3.12         59           50         53   \n",
       "2077961  5194906          5.73         59           36         34   \n",
       "2077962  5194907          5.03         36           38         44   \n",
       "2077963  5194908         15.51         41           53         53   \n",
       "\n",
       "         does-bruise-or-bleed  gill-attachment  gill-spacing  gill-color  \\\n",
       "0                          18               37            17          52   \n",
       "1                           5               37            17          54   \n",
       "2                           5               37            17          41   \n",
       "3                           5               57            17          41   \n",
       "4                           5               55            17          54   \n",
       "...                       ...              ...           ...         ...   \n",
       "2077959                     5               37            18          52   \n",
       "2077960                     5               41            17          52   \n",
       "2077961                     5               37            17          52   \n",
       "2077962                     5               37            18          31   \n",
       "2077963                     5               41            17          54   \n",
       "\n",
       "         stem-height  ...  stem-root  stem-surface  stem-color  veil-type  \\\n",
       "0              11.13  ...          9            45          51         12   \n",
       "1               1.27  ...          9            45          38         12   \n",
       "2               6.18  ...          9            45          38         12   \n",
       "3               4.98  ...          9            45          51         12   \n",
       "4               6.73  ...          9            45          53         12   \n",
       "...              ...  ...        ...           ...         ...        ...   \n",
       "2077959         2.67  ...          9            45          29         12   \n",
       "2077960         2.69  ...          9            45          51         12   \n",
       "2077961         6.16  ...          9            45          53         12   \n",
       "2077962         6.00  ...          9            45          31         12   \n",
       "2077963         2.69  ...          9            45          51         12   \n",
       "\n",
       "         veil-color  has-ring  ring-type  spore-print-color  habitat  season  \n",
       "0                21        17         15                 18       16       0  \n",
       "1                21         6         14                 18       16       0  \n",
       "2                21         6         14                 18       16       1  \n",
       "3                14        17         35                 18       16       2  \n",
       "4                22        17         14                 18       16       2  \n",
       "...             ...       ...        ...                ...      ...     ...  \n",
       "2077959          21         6         14                 18       16       2  \n",
       "2077960          21         6         14                 18       19       0  \n",
       "2077961          21        17         35                 18       16       0  \n",
       "2077962          21         6         14                 18       16       0  \n",
       "2077963          21         6         14                 18       16       3  \n",
       "\n",
       "[2077964 rows x 21 columns]"
      ]
     },
     "execution_count": 17,
     "metadata": {},
     "output_type": "execute_result"
    }
   ],
   "source": [
    "for col in categorical_columns:\n",
    "    df_test[col] = label_encoder.fit_transform(df_test[col])\n",
    "\n",
    "df_test"
   ]
  },
  {
   "cell_type": "code",
   "execution_count": 18,
   "id": "3c3d10be",
   "metadata": {
    "execution": {
     "iopub.execute_input": "2024-08-03T18:33:29.138511Z",
     "iopub.status.busy": "2024-08-03T18:33:29.138205Z",
     "iopub.status.idle": "2024-08-03T18:33:31.201361Z",
     "shell.execute_reply": "2024-08-03T18:33:31.200560Z"
    },
    "papermill": {
     "duration": 2.081469,
     "end_time": "2024-08-03T18:33:31.203101",
     "exception": false,
     "start_time": "2024-08-03T18:33:29.121632",
     "status": "completed"
    },
    "tags": []
   },
   "outputs": [
    {
     "data": {
      "text/html": [
       "<div>\n",
       "<style scoped>\n",
       "    .dataframe tbody tr th:only-of-type {\n",
       "        vertical-align: middle;\n",
       "    }\n",
       "\n",
       "    .dataframe tbody tr th {\n",
       "        vertical-align: top;\n",
       "    }\n",
       "\n",
       "    .dataframe thead th {\n",
       "        text-align: right;\n",
       "    }\n",
       "</style>\n",
       "<table border=\"1\" class=\"dataframe\">\n",
       "  <thead>\n",
       "    <tr style=\"text-align: right;\">\n",
       "      <th></th>\n",
       "      <th>id</th>\n",
       "      <th>Response</th>\n",
       "    </tr>\n",
       "  </thead>\n",
       "  <tbody>\n",
       "    <tr>\n",
       "      <th>0</th>\n",
       "      <td>3116945</td>\n",
       "      <td>p</td>\n",
       "    </tr>\n",
       "    <tr>\n",
       "      <th>1</th>\n",
       "      <td>3116946</td>\n",
       "      <td>p</td>\n",
       "    </tr>\n",
       "    <tr>\n",
       "      <th>2</th>\n",
       "      <td>3116947</td>\n",
       "      <td>p</td>\n",
       "    </tr>\n",
       "    <tr>\n",
       "      <th>3</th>\n",
       "      <td>3116948</td>\n",
       "      <td>p</td>\n",
       "    </tr>\n",
       "    <tr>\n",
       "      <th>4</th>\n",
       "      <td>3116949</td>\n",
       "      <td>e</td>\n",
       "    </tr>\n",
       "    <tr>\n",
       "      <th>...</th>\n",
       "      <td>...</td>\n",
       "      <td>...</td>\n",
       "    </tr>\n",
       "    <tr>\n",
       "      <th>2077959</th>\n",
       "      <td>5194904</td>\n",
       "      <td>p</td>\n",
       "    </tr>\n",
       "    <tr>\n",
       "      <th>2077960</th>\n",
       "      <td>5194905</td>\n",
       "      <td>p</td>\n",
       "    </tr>\n",
       "    <tr>\n",
       "      <th>2077961</th>\n",
       "      <td>5194906</td>\n",
       "      <td>p</td>\n",
       "    </tr>\n",
       "    <tr>\n",
       "      <th>2077962</th>\n",
       "      <td>5194907</td>\n",
       "      <td>p</td>\n",
       "    </tr>\n",
       "    <tr>\n",
       "      <th>2077963</th>\n",
       "      <td>5194908</td>\n",
       "      <td>p</td>\n",
       "    </tr>\n",
       "  </tbody>\n",
       "</table>\n",
       "<p>2077964 rows × 2 columns</p>\n",
       "</div>"
      ],
      "text/plain": [
       "              id Response\n",
       "0        3116945        p\n",
       "1        3116946        p\n",
       "2        3116947        p\n",
       "3        3116948        p\n",
       "4        3116949        e\n",
       "...          ...      ...\n",
       "2077959  5194904        p\n",
       "2077960  5194905        p\n",
       "2077961  5194906        p\n",
       "2077962  5194907        p\n",
       "2077963  5194908        p\n",
       "\n",
       "[2077964 rows x 2 columns]"
      ]
     },
     "execution_count": 18,
     "metadata": {},
     "output_type": "execute_result"
    }
   ],
   "source": [
    "# run the model on the test set and make a submission csv with id and Target columns\n",
    "\n",
    "X_test = df_test.drop('id', axis=1)\n",
    "\n",
    "y_pred = model.predict(X_test)\n",
    "\n",
    "y_pred = np.where(y_pred == 0, 'e', 'p')\n",
    "\n",
    "submission = pd.DataFrame({'id': df_test['id'], 'Response': y_pred})\n",
    "\n",
    "submission.to_csv('submission1.csv', index=False)\n",
    "\n",
    "submission"
   ]
  },
  {
   "cell_type": "code",
   "execution_count": 19,
   "id": "94ab9ce8",
   "metadata": {
    "execution": {
     "iopub.execute_input": "2024-08-03T18:33:31.263072Z",
     "iopub.status.busy": "2024-08-03T18:33:31.262754Z",
     "iopub.status.idle": "2024-08-03T18:33:41.968884Z",
     "shell.execute_reply": "2024-08-03T18:33:41.968065Z"
    },
    "papermill": {
     "duration": 10.725589,
     "end_time": "2024-08-03T18:33:41.970954",
     "exception": false,
     "start_time": "2024-08-03T18:33:31.245365",
     "status": "completed"
    },
    "tags": []
   },
   "outputs": [
    {
     "name": "stdout",
     "output_type": "stream",
     "text": [
      "Accuracy with SVM: 0.6566461711708099\n"
     ]
    }
   ],
   "source": [
    "# use SVM for classification\n",
    "\n",
    "from sklearn.svm import LinearSVC\n",
    "from sklearn.decomposition import PCA\n",
    "\n",
    "model = make_pipeline(\n",
    "    StandardScaler(),\n",
    "    PCA(n_components=0.95),  \n",
    "    LinearSVC(dual=False, tol=1e-3, max_iter=10000) \n",
    ")\n",
    "\n",
    "\n",
    "# divide the dataset into training and testing set\n",
    "\n",
    "X_train, X_test, y_train, y_test = train_test_split(X, y, test_size=0.2, random_state=42)\n",
    "\n",
    "# fit the model\n",
    "model.fit(X_train, y_train)\n",
    "\n",
    "# make predictions\n",
    "y_pred = model.predict(X_test)\n",
    "\n",
    "# evaluate the model\n",
    "accuracy = accuracy_score(y_test, y_pred)\n",
    "\n",
    "print(f'Accuracy with SVM: {accuracy}')"
   ]
  },
  {
   "cell_type": "code",
   "execution_count": 20,
   "id": "44862cec",
   "metadata": {
    "execution": {
     "iopub.execute_input": "2024-08-03T18:33:42.010187Z",
     "iopub.status.busy": "2024-08-03T18:33:42.009871Z",
     "iopub.status.idle": "2024-08-03T18:33:44.136245Z",
     "shell.execute_reply": "2024-08-03T18:33:44.135575Z"
    },
    "papermill": {
     "duration": 2.148232,
     "end_time": "2024-08-03T18:33:44.138077",
     "exception": false,
     "start_time": "2024-08-03T18:33:41.989845",
     "status": "completed"
    },
    "tags": []
   },
   "outputs": [
    {
     "data": {
      "text/html": [
       "<div>\n",
       "<style scoped>\n",
       "    .dataframe tbody tr th:only-of-type {\n",
       "        vertical-align: middle;\n",
       "    }\n",
       "\n",
       "    .dataframe tbody tr th {\n",
       "        vertical-align: top;\n",
       "    }\n",
       "\n",
       "    .dataframe thead th {\n",
       "        text-align: right;\n",
       "    }\n",
       "</style>\n",
       "<table border=\"1\" class=\"dataframe\">\n",
       "  <thead>\n",
       "    <tr style=\"text-align: right;\">\n",
       "      <th></th>\n",
       "      <th>id</th>\n",
       "      <th>Response</th>\n",
       "    </tr>\n",
       "  </thead>\n",
       "  <tbody>\n",
       "    <tr>\n",
       "      <th>0</th>\n",
       "      <td>3116945</td>\n",
       "      <td>p</td>\n",
       "    </tr>\n",
       "    <tr>\n",
       "      <th>1</th>\n",
       "      <td>3116946</td>\n",
       "      <td>p</td>\n",
       "    </tr>\n",
       "    <tr>\n",
       "      <th>2</th>\n",
       "      <td>3116947</td>\n",
       "      <td>p</td>\n",
       "    </tr>\n",
       "    <tr>\n",
       "      <th>3</th>\n",
       "      <td>3116948</td>\n",
       "      <td>p</td>\n",
       "    </tr>\n",
       "    <tr>\n",
       "      <th>4</th>\n",
       "      <td>3116949</td>\n",
       "      <td>p</td>\n",
       "    </tr>\n",
       "    <tr>\n",
       "      <th>...</th>\n",
       "      <td>...</td>\n",
       "      <td>...</td>\n",
       "    </tr>\n",
       "    <tr>\n",
       "      <th>2077959</th>\n",
       "      <td>5194904</td>\n",
       "      <td>p</td>\n",
       "    </tr>\n",
       "    <tr>\n",
       "      <th>2077960</th>\n",
       "      <td>5194905</td>\n",
       "      <td>p</td>\n",
       "    </tr>\n",
       "    <tr>\n",
       "      <th>2077961</th>\n",
       "      <td>5194906</td>\n",
       "      <td>p</td>\n",
       "    </tr>\n",
       "    <tr>\n",
       "      <th>2077962</th>\n",
       "      <td>5194907</td>\n",
       "      <td>p</td>\n",
       "    </tr>\n",
       "    <tr>\n",
       "      <th>2077963</th>\n",
       "      <td>5194908</td>\n",
       "      <td>p</td>\n",
       "    </tr>\n",
       "  </tbody>\n",
       "</table>\n",
       "<p>2077964 rows × 2 columns</p>\n",
       "</div>"
      ],
      "text/plain": [
       "              id Response\n",
       "0        3116945        p\n",
       "1        3116946        p\n",
       "2        3116947        p\n",
       "3        3116948        p\n",
       "4        3116949        p\n",
       "...          ...      ...\n",
       "2077959  5194904        p\n",
       "2077960  5194905        p\n",
       "2077961  5194906        p\n",
       "2077962  5194907        p\n",
       "2077963  5194908        p\n",
       "\n",
       "[2077964 rows x 2 columns]"
      ]
     },
     "execution_count": 20,
     "metadata": {},
     "output_type": "execute_result"
    }
   ],
   "source": [
    "# run the model on the test set and make a submission csv with id and Target columns\n",
    "\n",
    "X_test = df_test.drop('id', axis=1)\n",
    "\n",
    "y_pred = model.predict(X_test)\n",
    "\n",
    "y_pred = np.where(y_pred == 0, 'e', 'p')\n",
    "\n",
    "submission = pd.DataFrame({'id': df_test['id'], 'Response': y_pred})\n",
    "\n",
    "submission.to_csv('submission2.csv', index=False)\n",
    "\n",
    "submission"
   ]
  },
  {
   "cell_type": "code",
   "execution_count": 21,
   "id": "b7e60f06",
   "metadata": {
    "execution": {
     "iopub.execute_input": "2024-08-03T18:33:44.175819Z",
     "iopub.status.busy": "2024-08-03T18:33:44.175463Z",
     "iopub.status.idle": "2024-08-03T18:41:46.461877Z",
     "shell.execute_reply": "2024-08-03T18:41:46.461099Z"
    },
    "papermill": {
     "duration": 482.324905,
     "end_time": "2024-08-03T18:41:46.480628",
     "exception": false,
     "start_time": "2024-08-03T18:33:44.155723",
     "status": "completed"
    },
    "tags": []
   },
   "outputs": [
    {
     "name": "stdout",
     "output_type": "stream",
     "text": [
      "Accuracy with Random Forest: 0.991356921601119\n"
     ]
    }
   ],
   "source": [
    "# use Random Forest for classification\n",
    "\n",
    "from sklearn.ensemble import RandomForestClassifier\n",
    "\n",
    "model = RandomForestClassifier(n_estimators=100, random_state=42)\n",
    "\n",
    "# divide the dataset into training and testing set\n",
    "\n",
    "X_train, X_test, y_train, y_test = train_test_split(X, y, test_size=0.2, random_state=42)\n",
    "\n",
    "# fit the model\n",
    "model.fit(X_train, y_train)\n",
    "\n",
    "# make predictions\n",
    "y_pred = model.predict(X_test)\n",
    "\n",
    "# evaluate the model\n",
    "accuracy = accuracy_score(y_test, y_pred)\n",
    "\n",
    "print(f'Accuracy with Random Forest: {accuracy}')"
   ]
  },
  {
   "cell_type": "code",
   "execution_count": 22,
   "id": "2b205421",
   "metadata": {
    "execution": {
     "iopub.execute_input": "2024-08-03T18:41:46.515223Z",
     "iopub.status.busy": "2024-08-03T18:41:46.514288Z",
     "iopub.status.idle": "2024-08-03T18:42:12.322043Z",
     "shell.execute_reply": "2024-08-03T18:42:12.321366Z"
    },
    "papermill": {
     "duration": 25.827015,
     "end_time": "2024-08-03T18:42:12.323873",
     "exception": false,
     "start_time": "2024-08-03T18:41:46.496858",
     "status": "completed"
    },
    "tags": []
   },
   "outputs": [
    {
     "data": {
      "text/html": [
       "<div>\n",
       "<style scoped>\n",
       "    .dataframe tbody tr th:only-of-type {\n",
       "        vertical-align: middle;\n",
       "    }\n",
       "\n",
       "    .dataframe tbody tr th {\n",
       "        vertical-align: top;\n",
       "    }\n",
       "\n",
       "    .dataframe thead th {\n",
       "        text-align: right;\n",
       "    }\n",
       "</style>\n",
       "<table border=\"1\" class=\"dataframe\">\n",
       "  <thead>\n",
       "    <tr style=\"text-align: right;\">\n",
       "      <th></th>\n",
       "      <th>id</th>\n",
       "      <th>Response</th>\n",
       "    </tr>\n",
       "  </thead>\n",
       "  <tbody>\n",
       "    <tr>\n",
       "      <th>0</th>\n",
       "      <td>3116945</td>\n",
       "      <td>e</td>\n",
       "    </tr>\n",
       "    <tr>\n",
       "      <th>1</th>\n",
       "      <td>3116946</td>\n",
       "      <td>p</td>\n",
       "    </tr>\n",
       "    <tr>\n",
       "      <th>2</th>\n",
       "      <td>3116947</td>\n",
       "      <td>p</td>\n",
       "    </tr>\n",
       "    <tr>\n",
       "      <th>3</th>\n",
       "      <td>3116948</td>\n",
       "      <td>p</td>\n",
       "    </tr>\n",
       "    <tr>\n",
       "      <th>4</th>\n",
       "      <td>3116949</td>\n",
       "      <td>e</td>\n",
       "    </tr>\n",
       "    <tr>\n",
       "      <th>...</th>\n",
       "      <td>...</td>\n",
       "      <td>...</td>\n",
       "    </tr>\n",
       "    <tr>\n",
       "      <th>2077959</th>\n",
       "      <td>5194904</td>\n",
       "      <td>p</td>\n",
       "    </tr>\n",
       "    <tr>\n",
       "      <th>2077960</th>\n",
       "      <td>5194905</td>\n",
       "      <td>p</td>\n",
       "    </tr>\n",
       "    <tr>\n",
       "      <th>2077961</th>\n",
       "      <td>5194906</td>\n",
       "      <td>p</td>\n",
       "    </tr>\n",
       "    <tr>\n",
       "      <th>2077962</th>\n",
       "      <td>5194907</td>\n",
       "      <td>p</td>\n",
       "    </tr>\n",
       "    <tr>\n",
       "      <th>2077963</th>\n",
       "      <td>5194908</td>\n",
       "      <td>p</td>\n",
       "    </tr>\n",
       "  </tbody>\n",
       "</table>\n",
       "<p>2077964 rows × 2 columns</p>\n",
       "</div>"
      ],
      "text/plain": [
       "              id Response\n",
       "0        3116945        e\n",
       "1        3116946        p\n",
       "2        3116947        p\n",
       "3        3116948        p\n",
       "4        3116949        e\n",
       "...          ...      ...\n",
       "2077959  5194904        p\n",
       "2077960  5194905        p\n",
       "2077961  5194906        p\n",
       "2077962  5194907        p\n",
       "2077963  5194908        p\n",
       "\n",
       "[2077964 rows x 2 columns]"
      ]
     },
     "execution_count": 22,
     "metadata": {},
     "output_type": "execute_result"
    }
   ],
   "source": [
    "# run the model on the test set and make a submission csv with id and Target columns\n",
    "\n",
    "X_test = df_test.drop('id', axis=1)\n",
    "\n",
    "y_pred = model.predict(X_test)\n",
    "\n",
    "y_pred = np.where(y_pred == 0, 'e', 'p')\n",
    "\n",
    "submission = pd.DataFrame({'id': df_test['id'], 'Response': y_pred})\n",
    "\n",
    "submission.to_csv('submission3.csv', index=False)\n",
    "\n",
    "submission"
   ]
  },
  {
   "cell_type": "code",
   "execution_count": 23,
   "id": "4a2763f3",
   "metadata": {
    "execution": {
     "iopub.execute_input": "2024-08-03T18:42:12.360140Z",
     "iopub.status.busy": "2024-08-03T18:42:12.359835Z",
     "iopub.status.idle": "2024-08-03T18:42:19.936925Z",
     "shell.execute_reply": "2024-08-03T18:42:19.935822Z"
    },
    "papermill": {
     "duration": 7.597375,
     "end_time": "2024-08-03T18:42:19.938732",
     "exception": false,
     "start_time": "2024-08-03T18:42:12.341357",
     "status": "completed"
    },
    "tags": []
   },
   "outputs": [
    {
     "name": "stdout",
     "output_type": "stream",
     "text": [
      "Accuracy with XGBoost: 0.9899805739273552\n"
     ]
    }
   ],
   "source": [
    "# use XGBoost for classification\n",
    "from xgboost import XGBClassifier\n",
    "\n",
    "# divide the dataset into training and testing set\n",
    "\n",
    "X_train, X_test, y_train, y_test = train_test_split(X, y, test_size=0.2, random_state=42)\n",
    "\n",
    "# fit the model\n",
    "\n",
    "model = XGBClassifier(n_estimators=100, random_state=42)\n",
    "\n",
    "model.fit(X_train, y_train)\n",
    "\n",
    "# make predictions\n",
    "y_pred = model.predict(X_test)\n",
    "\n",
    "# evaluate the model\n",
    "accuracy = accuracy_score(y_test, y_pred)\n",
    "\n",
    "print(f'Accuracy with XGBoost: {accuracy}')"
   ]
  },
  {
   "cell_type": "code",
   "execution_count": 24,
   "id": "9f53da69",
   "metadata": {
    "execution": {
     "iopub.execute_input": "2024-08-03T18:42:19.977102Z",
     "iopub.status.busy": "2024-08-03T18:42:19.976031Z",
     "iopub.status.idle": "2024-08-03T18:42:21.850826Z",
     "shell.execute_reply": "2024-08-03T18:42:21.849958Z"
    },
    "papermill": {
     "duration": 1.895482,
     "end_time": "2024-08-03T18:42:21.852705",
     "exception": false,
     "start_time": "2024-08-03T18:42:19.957223",
     "status": "completed"
    },
    "tags": []
   },
   "outputs": [
    {
     "data": {
      "text/html": [
       "<div>\n",
       "<style scoped>\n",
       "    .dataframe tbody tr th:only-of-type {\n",
       "        vertical-align: middle;\n",
       "    }\n",
       "\n",
       "    .dataframe tbody tr th {\n",
       "        vertical-align: top;\n",
       "    }\n",
       "\n",
       "    .dataframe thead th {\n",
       "        text-align: right;\n",
       "    }\n",
       "</style>\n",
       "<table border=\"1\" class=\"dataframe\">\n",
       "  <thead>\n",
       "    <tr style=\"text-align: right;\">\n",
       "      <th></th>\n",
       "      <th>id</th>\n",
       "      <th>Response</th>\n",
       "    </tr>\n",
       "  </thead>\n",
       "  <tbody>\n",
       "    <tr>\n",
       "      <th>0</th>\n",
       "      <td>3116945</td>\n",
       "      <td>e</td>\n",
       "    </tr>\n",
       "    <tr>\n",
       "      <th>1</th>\n",
       "      <td>3116946</td>\n",
       "      <td>p</td>\n",
       "    </tr>\n",
       "    <tr>\n",
       "      <th>2</th>\n",
       "      <td>3116947</td>\n",
       "      <td>p</td>\n",
       "    </tr>\n",
       "    <tr>\n",
       "      <th>3</th>\n",
       "      <td>3116948</td>\n",
       "      <td>p</td>\n",
       "    </tr>\n",
       "    <tr>\n",
       "      <th>4</th>\n",
       "      <td>3116949</td>\n",
       "      <td>e</td>\n",
       "    </tr>\n",
       "    <tr>\n",
       "      <th>...</th>\n",
       "      <td>...</td>\n",
       "      <td>...</td>\n",
       "    </tr>\n",
       "    <tr>\n",
       "      <th>2077959</th>\n",
       "      <td>5194904</td>\n",
       "      <td>e</td>\n",
       "    </tr>\n",
       "    <tr>\n",
       "      <th>2077960</th>\n",
       "      <td>5194905</td>\n",
       "      <td>p</td>\n",
       "    </tr>\n",
       "    <tr>\n",
       "      <th>2077961</th>\n",
       "      <td>5194906</td>\n",
       "      <td>p</td>\n",
       "    </tr>\n",
       "    <tr>\n",
       "      <th>2077962</th>\n",
       "      <td>5194907</td>\n",
       "      <td>p</td>\n",
       "    </tr>\n",
       "    <tr>\n",
       "      <th>2077963</th>\n",
       "      <td>5194908</td>\n",
       "      <td>p</td>\n",
       "    </tr>\n",
       "  </tbody>\n",
       "</table>\n",
       "<p>2077964 rows × 2 columns</p>\n",
       "</div>"
      ],
      "text/plain": [
       "              id Response\n",
       "0        3116945        e\n",
       "1        3116946        p\n",
       "2        3116947        p\n",
       "3        3116948        p\n",
       "4        3116949        e\n",
       "...          ...      ...\n",
       "2077959  5194904        e\n",
       "2077960  5194905        p\n",
       "2077961  5194906        p\n",
       "2077962  5194907        p\n",
       "2077963  5194908        p\n",
       "\n",
       "[2077964 rows x 2 columns]"
      ]
     },
     "execution_count": 24,
     "metadata": {},
     "output_type": "execute_result"
    }
   ],
   "source": [
    "# run the model on the test set and make a submission csv with id and Target columns\n",
    "\n",
    "X_test = df_test.drop('id', axis=1)\n",
    "\n",
    "y_pred = model.predict(X_test)\n",
    "\n",
    "y_pred = np.where(y_pred == 0, 'e', 'p')\n",
    "\n",
    "submission = pd.DataFrame({'id': df_test['id'], 'Response': y_pred})\n",
    "\n",
    "submission.to_csv('submission4.csv', index=False)\n",
    "\n",
    "submission"
   ]
  },
  {
   "cell_type": "code",
   "execution_count": 25,
   "id": "5a7357ef",
   "metadata": {
    "execution": {
     "iopub.execute_input": "2024-08-03T18:42:21.887824Z",
     "iopub.status.busy": "2024-08-03T18:42:21.887496Z",
     "iopub.status.idle": "2024-08-03T18:57:42.311864Z",
     "shell.execute_reply": "2024-08-03T18:57:42.309716Z"
    },
    "papermill": {
     "duration": 920.500555,
     "end_time": "2024-08-03T18:57:42.370449",
     "exception": false,
     "start_time": "2024-08-03T18:42:21.869894",
     "status": "completed"
    },
    "tags": []
   },
   "outputs": [
    {
     "name": "stdout",
     "output_type": "stream",
     "text": [
      "Accuracy with MLP: 0.9863199382728922\n"
     ]
    }
   ],
   "source": [
    "# using MLP for classification\n",
    "\n",
    "from sklearn.neural_network import MLPClassifier\n",
    "\n",
    "model = make_pipeline(\n",
    "    StandardScaler(),\n",
    "    MLPClassifier(hidden_layer_sizes=(25, 20, 15, 10, 5), max_iter=1000)\n",
    ")\n",
    "\n",
    "# divide the dataset into training and testing set\n",
    "X_train, X_test, y_train, y_test = train_test_split(X, y, test_size=0.2, random_state=42)\n",
    "\n",
    "# fit the model\n",
    "model.fit(X_train, y_train)\n",
    "\n",
    "# make predictions\n",
    "y_pred = model.predict(X_test)\n",
    "\n",
    "# evaluate the model\n",
    "accuracy = accuracy_score(y_test, y_pred)\n",
    "\n",
    "print(f'Accuracy with MLP: {accuracy}')"
   ]
  },
  {
   "cell_type": "code",
   "execution_count": 26,
   "id": "18d77906",
   "metadata": {
    "execution": {
     "iopub.execute_input": "2024-08-03T18:57:42.418190Z",
     "iopub.status.busy": "2024-08-03T18:57:42.417848Z",
     "iopub.status.idle": "2024-08-03T18:57:45.407710Z",
     "shell.execute_reply": "2024-08-03T18:57:45.406767Z"
    },
    "papermill": {
     "duration": 3.009845,
     "end_time": "2024-08-03T18:57:45.409386",
     "exception": false,
     "start_time": "2024-08-03T18:57:42.399541",
     "status": "completed"
    },
    "tags": []
   },
   "outputs": [
    {
     "data": {
      "text/html": [
       "<div>\n",
       "<style scoped>\n",
       "    .dataframe tbody tr th:only-of-type {\n",
       "        vertical-align: middle;\n",
       "    }\n",
       "\n",
       "    .dataframe tbody tr th {\n",
       "        vertical-align: top;\n",
       "    }\n",
       "\n",
       "    .dataframe thead th {\n",
       "        text-align: right;\n",
       "    }\n",
       "</style>\n",
       "<table border=\"1\" class=\"dataframe\">\n",
       "  <thead>\n",
       "    <tr style=\"text-align: right;\">\n",
       "      <th></th>\n",
       "      <th>id</th>\n",
       "      <th>Response</th>\n",
       "    </tr>\n",
       "  </thead>\n",
       "  <tbody>\n",
       "    <tr>\n",
       "      <th>0</th>\n",
       "      <td>3116945</td>\n",
       "      <td>p</td>\n",
       "    </tr>\n",
       "    <tr>\n",
       "      <th>1</th>\n",
       "      <td>3116946</td>\n",
       "      <td>p</td>\n",
       "    </tr>\n",
       "    <tr>\n",
       "      <th>2</th>\n",
       "      <td>3116947</td>\n",
       "      <td>p</td>\n",
       "    </tr>\n",
       "    <tr>\n",
       "      <th>3</th>\n",
       "      <td>3116948</td>\n",
       "      <td>p</td>\n",
       "    </tr>\n",
       "    <tr>\n",
       "      <th>4</th>\n",
       "      <td>3116949</td>\n",
       "      <td>p</td>\n",
       "    </tr>\n",
       "    <tr>\n",
       "      <th>...</th>\n",
       "      <td>...</td>\n",
       "      <td>...</td>\n",
       "    </tr>\n",
       "    <tr>\n",
       "      <th>2077959</th>\n",
       "      <td>5194904</td>\n",
       "      <td>e</td>\n",
       "    </tr>\n",
       "    <tr>\n",
       "      <th>2077960</th>\n",
       "      <td>5194905</td>\n",
       "      <td>p</td>\n",
       "    </tr>\n",
       "    <tr>\n",
       "      <th>2077961</th>\n",
       "      <td>5194906</td>\n",
       "      <td>p</td>\n",
       "    </tr>\n",
       "    <tr>\n",
       "      <th>2077962</th>\n",
       "      <td>5194907</td>\n",
       "      <td>p</td>\n",
       "    </tr>\n",
       "    <tr>\n",
       "      <th>2077963</th>\n",
       "      <td>5194908</td>\n",
       "      <td>p</td>\n",
       "    </tr>\n",
       "  </tbody>\n",
       "</table>\n",
       "<p>2077964 rows × 2 columns</p>\n",
       "</div>"
      ],
      "text/plain": [
       "              id Response\n",
       "0        3116945        p\n",
       "1        3116946        p\n",
       "2        3116947        p\n",
       "3        3116948        p\n",
       "4        3116949        p\n",
       "...          ...      ...\n",
       "2077959  5194904        e\n",
       "2077960  5194905        p\n",
       "2077961  5194906        p\n",
       "2077962  5194907        p\n",
       "2077963  5194908        p\n",
       "\n",
       "[2077964 rows x 2 columns]"
      ]
     },
     "execution_count": 26,
     "metadata": {},
     "output_type": "execute_result"
    }
   ],
   "source": [
    "# run the model on the test set and make a submission csv with id and Target columns\n",
    "\n",
    "X_test = df_test.drop('id', axis=1)\n",
    "\n",
    "y_pred = model.predict(X_test)\n",
    "\n",
    "y_pred = np.where(y_pred == 0, 'e', 'p')\n",
    "\n",
    "submission = pd.DataFrame({'id': df_test['id'], 'Response': y_pred})\n",
    "\n",
    "submission.to_csv('submission5.csv', index=False)\n",
    "\n",
    "submission"
   ]
  },
  {
   "cell_type": "code",
   "execution_count": 27,
   "id": "bf4d9b3c",
   "metadata": {
    "execution": {
     "iopub.execute_input": "2024-08-03T18:57:45.449811Z",
     "iopub.status.busy": "2024-08-03T18:57:45.449489Z",
     "iopub.status.idle": "2024-08-03T19:01:47.421783Z",
     "shell.execute_reply": "2024-08-03T19:01:47.420731Z"
    },
    "papermill": {
     "duration": 242.012047,
     "end_time": "2024-08-03T19:01:47.441073",
     "exception": false,
     "start_time": "2024-08-03T18:57:45.429026",
     "status": "completed"
    },
    "tags": []
   },
   "outputs": [
    {
     "name": "stderr",
     "output_type": "stream",
     "text": [
      "/usr/local/lib/python3.10/site-packages/sklearn/ensemble/_weight_boosting.py:527: FutureWarning: The SAMME.R algorithm (the default) is deprecated and will be removed in 1.6. Use the SAMME algorithm to circumvent this warning.\n",
      "  warnings.warn(\n"
     ]
    },
    {
     "name": "stdout",
     "output_type": "stream",
     "text": [
      "Accuracy with AdaBoost: 0.8416253735628957\n"
     ]
    }
   ],
   "source": [
    "# using AdaBoost for classification\n",
    "\n",
    "from sklearn.ensemble import AdaBoostClassifier\n",
    "\n",
    "model = AdaBoostClassifier(n_estimators=100, random_state=42)\n",
    "\n",
    "# divide the dataset into training and testing set\n",
    "\n",
    "X_train, X_test, y_train, y_test = train_test_split(X, y, test_size=0.2, random_state=42)\n",
    "\n",
    "# fit the model\n",
    "model.fit(X_train, y_train)\n",
    "\n",
    "# make predictions\n",
    "y_pred = model.predict(X_test)\n",
    "\n",
    "# evaluate the model\n",
    "accuracy = accuracy_score(y_test, y_pred)\n",
    "\n",
    "print(f'Accuracy with AdaBoost: {accuracy}')"
   ]
  },
  {
   "cell_type": "code",
   "execution_count": 28,
   "id": "bdc7c520",
   "metadata": {
    "execution": {
     "iopub.execute_input": "2024-08-03T19:01:47.477973Z",
     "iopub.status.busy": "2024-08-03T19:01:47.477641Z",
     "iopub.status.idle": "2024-08-03T19:02:07.841894Z",
     "shell.execute_reply": "2024-08-03T19:02:07.840838Z"
    },
    "papermill": {
     "duration": 20.385418,
     "end_time": "2024-08-03T19:02:07.843892",
     "exception": false,
     "start_time": "2024-08-03T19:01:47.458474",
     "status": "completed"
    },
    "tags": []
   },
   "outputs": [
    {
     "data": {
      "text/html": [
       "<div>\n",
       "<style scoped>\n",
       "    .dataframe tbody tr th:only-of-type {\n",
       "        vertical-align: middle;\n",
       "    }\n",
       "\n",
       "    .dataframe tbody tr th {\n",
       "        vertical-align: top;\n",
       "    }\n",
       "\n",
       "    .dataframe thead th {\n",
       "        text-align: right;\n",
       "    }\n",
       "</style>\n",
       "<table border=\"1\" class=\"dataframe\">\n",
       "  <thead>\n",
       "    <tr style=\"text-align: right;\">\n",
       "      <th></th>\n",
       "      <th>id</th>\n",
       "      <th>Response</th>\n",
       "    </tr>\n",
       "  </thead>\n",
       "  <tbody>\n",
       "    <tr>\n",
       "      <th>0</th>\n",
       "      <td>3116945</td>\n",
       "      <td>p</td>\n",
       "    </tr>\n",
       "    <tr>\n",
       "      <th>1</th>\n",
       "      <td>3116946</td>\n",
       "      <td>p</td>\n",
       "    </tr>\n",
       "    <tr>\n",
       "      <th>2</th>\n",
       "      <td>3116947</td>\n",
       "      <td>p</td>\n",
       "    </tr>\n",
       "    <tr>\n",
       "      <th>3</th>\n",
       "      <td>3116948</td>\n",
       "      <td>e</td>\n",
       "    </tr>\n",
       "    <tr>\n",
       "      <th>4</th>\n",
       "      <td>3116949</td>\n",
       "      <td>e</td>\n",
       "    </tr>\n",
       "    <tr>\n",
       "      <th>...</th>\n",
       "      <td>...</td>\n",
       "      <td>...</td>\n",
       "    </tr>\n",
       "    <tr>\n",
       "      <th>2077959</th>\n",
       "      <td>5194904</td>\n",
       "      <td>e</td>\n",
       "    </tr>\n",
       "    <tr>\n",
       "      <th>2077960</th>\n",
       "      <td>5194905</td>\n",
       "      <td>p</td>\n",
       "    </tr>\n",
       "    <tr>\n",
       "      <th>2077961</th>\n",
       "      <td>5194906</td>\n",
       "      <td>e</td>\n",
       "    </tr>\n",
       "    <tr>\n",
       "      <th>2077962</th>\n",
       "      <td>5194907</td>\n",
       "      <td>e</td>\n",
       "    </tr>\n",
       "    <tr>\n",
       "      <th>2077963</th>\n",
       "      <td>5194908</td>\n",
       "      <td>p</td>\n",
       "    </tr>\n",
       "  </tbody>\n",
       "</table>\n",
       "<p>2077964 rows × 2 columns</p>\n",
       "</div>"
      ],
      "text/plain": [
       "              id Response\n",
       "0        3116945        p\n",
       "1        3116946        p\n",
       "2        3116947        p\n",
       "3        3116948        e\n",
       "4        3116949        e\n",
       "...          ...      ...\n",
       "2077959  5194904        e\n",
       "2077960  5194905        p\n",
       "2077961  5194906        e\n",
       "2077962  5194907        e\n",
       "2077963  5194908        p\n",
       "\n",
       "[2077964 rows x 2 columns]"
      ]
     },
     "execution_count": 28,
     "metadata": {},
     "output_type": "execute_result"
    }
   ],
   "source": [
    "# run the model on the test set and make a submission csv with id and Target columns\n",
    "\n",
    "X_test = df_test.drop('id', axis=1)\n",
    "\n",
    "y_pred = model.predict(X_test)\n",
    "\n",
    "y_pred = np.where(y_pred == 0, 'e', 'p')\n",
    "\n",
    "submission = pd.DataFrame({'id': df_test['id'], 'Response': y_pred})\n",
    "\n",
    "submission.to_csv('submission6.csv', index=False)\n",
    "\n",
    "submission"
   ]
  },
  {
   "cell_type": "code",
   "execution_count": 29,
   "id": "68e6855a",
   "metadata": {
    "execution": {
     "iopub.execute_input": "2024-08-03T19:02:07.882549Z",
     "iopub.status.busy": "2024-08-03T19:02:07.882152Z",
     "iopub.status.idle": "2024-08-03T19:10:22.316682Z",
     "shell.execute_reply": "2024-08-03T19:10:22.315795Z"
    },
    "papermill": {
     "duration": 494.474458,
     "end_time": "2024-08-03T19:10:22.337373",
     "exception": false,
     "start_time": "2024-08-03T19:02:07.862915",
     "status": "completed"
    },
    "tags": []
   },
   "outputs": [
    {
     "name": "stdout",
     "output_type": "stream",
     "text": [
      "Accuracy with GradientBoosting Machine: 0.9161053531583009\n"
     ]
    }
   ],
   "source": [
    "# using GradientBoosting Machine for classification\n",
    "\n",
    "from sklearn.ensemble import GradientBoostingClassifier\n",
    "\n",
    "model = GradientBoostingClassifier(n_estimators=100, random_state=42)\n",
    "\n",
    "# divide the dataset into training and testing set\n",
    "\n",
    "X_train, X_test, y_train, y_test = train_test_split(X, y, test_size=0.2, random_state=42)\n",
    "\n",
    "# fit the model\n",
    "model.fit(X_train, y_train)\n",
    "\n",
    "# make predictions\n",
    "y_pred = model.predict(X_test)\n",
    "\n",
    "# evaluate the model\n",
    "accuracy = accuracy_score(y_test, y_pred)\n",
    "\n",
    "print(f'Accuracy with GradientBoosting Machine: {accuracy}')"
   ]
  },
  {
   "cell_type": "code",
   "execution_count": 30,
   "id": "c282ae5e",
   "metadata": {
    "execution": {
     "iopub.execute_input": "2024-08-03T19:10:22.374884Z",
     "iopub.status.busy": "2024-08-03T19:10:22.374299Z",
     "iopub.status.idle": "2024-08-03T19:10:27.027994Z",
     "shell.execute_reply": "2024-08-03T19:10:27.027279Z"
    },
    "papermill": {
     "duration": 4.675177,
     "end_time": "2024-08-03T19:10:27.029928",
     "exception": false,
     "start_time": "2024-08-03T19:10:22.354751",
     "status": "completed"
    },
    "tags": []
   },
   "outputs": [
    {
     "data": {
      "text/html": [
       "<div>\n",
       "<style scoped>\n",
       "    .dataframe tbody tr th:only-of-type {\n",
       "        vertical-align: middle;\n",
       "    }\n",
       "\n",
       "    .dataframe tbody tr th {\n",
       "        vertical-align: top;\n",
       "    }\n",
       "\n",
       "    .dataframe thead th {\n",
       "        text-align: right;\n",
       "    }\n",
       "</style>\n",
       "<table border=\"1\" class=\"dataframe\">\n",
       "  <thead>\n",
       "    <tr style=\"text-align: right;\">\n",
       "      <th></th>\n",
       "      <th>id</th>\n",
       "      <th>Response</th>\n",
       "    </tr>\n",
       "  </thead>\n",
       "  <tbody>\n",
       "    <tr>\n",
       "      <th>0</th>\n",
       "      <td>3116945</td>\n",
       "      <td>p</td>\n",
       "    </tr>\n",
       "    <tr>\n",
       "      <th>1</th>\n",
       "      <td>3116946</td>\n",
       "      <td>p</td>\n",
       "    </tr>\n",
       "    <tr>\n",
       "      <th>2</th>\n",
       "      <td>3116947</td>\n",
       "      <td>p</td>\n",
       "    </tr>\n",
       "    <tr>\n",
       "      <th>3</th>\n",
       "      <td>3116948</td>\n",
       "      <td>p</td>\n",
       "    </tr>\n",
       "    <tr>\n",
       "      <th>4</th>\n",
       "      <td>3116949</td>\n",
       "      <td>p</td>\n",
       "    </tr>\n",
       "    <tr>\n",
       "      <th>...</th>\n",
       "      <td>...</td>\n",
       "      <td>...</td>\n",
       "    </tr>\n",
       "    <tr>\n",
       "      <th>2077959</th>\n",
       "      <td>5194904</td>\n",
       "      <td>p</td>\n",
       "    </tr>\n",
       "    <tr>\n",
       "      <th>2077960</th>\n",
       "      <td>5194905</td>\n",
       "      <td>p</td>\n",
       "    </tr>\n",
       "    <tr>\n",
       "      <th>2077961</th>\n",
       "      <td>5194906</td>\n",
       "      <td>e</td>\n",
       "    </tr>\n",
       "    <tr>\n",
       "      <th>2077962</th>\n",
       "      <td>5194907</td>\n",
       "      <td>p</td>\n",
       "    </tr>\n",
       "    <tr>\n",
       "      <th>2077963</th>\n",
       "      <td>5194908</td>\n",
       "      <td>p</td>\n",
       "    </tr>\n",
       "  </tbody>\n",
       "</table>\n",
       "<p>2077964 rows × 2 columns</p>\n",
       "</div>"
      ],
      "text/plain": [
       "              id Response\n",
       "0        3116945        p\n",
       "1        3116946        p\n",
       "2        3116947        p\n",
       "3        3116948        p\n",
       "4        3116949        p\n",
       "...          ...      ...\n",
       "2077959  5194904        p\n",
       "2077960  5194905        p\n",
       "2077961  5194906        e\n",
       "2077962  5194907        p\n",
       "2077963  5194908        p\n",
       "\n",
       "[2077964 rows x 2 columns]"
      ]
     },
     "execution_count": 30,
     "metadata": {},
     "output_type": "execute_result"
    }
   ],
   "source": [
    "# run the model on the test set and make a submission csv with id and Target columns\n",
    "\n",
    "X_test = df_test.drop('id', axis=1)\n",
    "\n",
    "y_pred = model.predict(X_test)\n",
    "\n",
    "y_pred = np.where(y_pred == 0, 'e', 'p')\n",
    "\n",
    "submission = pd.DataFrame({'id': df_test['id'], 'Response': y_pred})\n",
    "\n",
    "submission.to_csv('submission7.csv', index=False)\n",
    "\n",
    "submission"
   ]
  },
  {
   "cell_type": "code",
   "execution_count": 31,
   "id": "bdbbc168",
   "metadata": {
    "execution": {
     "iopub.execute_input": "2024-08-03T19:10:27.068932Z",
     "iopub.status.busy": "2024-08-03T19:10:27.068636Z",
     "iopub.status.idle": "2024-08-03T19:10:32.086166Z",
     "shell.execute_reply": "2024-08-03T19:10:32.085441Z"
    },
    "papermill": {
     "duration": 5.038908,
     "end_time": "2024-08-03T19:10:32.088044",
     "exception": false,
     "start_time": "2024-08-03T19:10:27.049136",
     "status": "completed"
    },
    "tags": []
   },
   "outputs": [
    {
     "name": "stdout",
     "output_type": "stream",
     "text": [
      "[LightGBM] [Info] Number of positive: 1364404, number of negative: 1129152\n"
     ]
    },
    {
     "name": "stdout",
     "output_type": "stream",
     "text": [
      "[LightGBM] [Info] Auto-choosing row-wise multi-threading, the overhead of testing was 0.081212 seconds.\n",
      "You can set `force_row_wise=true` to remove the overhead.\n",
      "And if memory is not enough, you can set `force_col_wise=true`.\n",
      "[LightGBM] [Info] Total Bins 964\n",
      "[LightGBM] [Info] Number of data points in the train set: 2493556, number of used features: 20\n",
      "[LightGBM] [Info] [binary:BoostFromScore]: pavg=0.547172 -> initscore=0.189251\n",
      "[LightGBM] [Info] Start training from score 0.189251\n"
     ]
    },
    {
     "name": "stdout",
     "output_type": "stream",
     "text": [
      "Accuracy with LightGBM: 0.9868781771895238\n"
     ]
    }
   ],
   "source": [
    "# use LightGBM for classification\n",
    "\n",
    "from lightgbm import LGBMClassifier\n",
    "\n",
    "model = LGBMClassifier(n_estimators=100, random_state=42)\n",
    "\n",
    "# divide the dataset into training and testing set\n",
    "\n",
    "X_train, X_test, y_train, y_test = train_test_split(X, y, test_size=0.2, random_state=42)\n",
    "\n",
    "# fit the model\n",
    "\n",
    "model.fit(X_train, y_train)\n",
    "\n",
    "# make predictions\n",
    "y_pred = model.predict(X_test)\n",
    "\n",
    "# evaluate the model\n",
    "accuracy = accuracy_score(y_test, y_pred)\n",
    "\n",
    "print(f'Accuracy with LightGBM: {accuracy}')"
   ]
  },
  {
   "cell_type": "code",
   "execution_count": 32,
   "id": "4f66188b",
   "metadata": {
    "execution": {
     "iopub.execute_input": "2024-08-03T19:10:32.126018Z",
     "iopub.status.busy": "2024-08-03T19:10:32.125743Z",
     "iopub.status.idle": "2024-08-03T19:10:34.682407Z",
     "shell.execute_reply": "2024-08-03T19:10:34.681735Z"
    },
    "papermill": {
     "duration": 2.57746,
     "end_time": "2024-08-03T19:10:34.684179",
     "exception": false,
     "start_time": "2024-08-03T19:10:32.106719",
     "status": "completed"
    },
    "tags": []
   },
   "outputs": [
    {
     "data": {
      "text/html": [
       "<div>\n",
       "<style scoped>\n",
       "    .dataframe tbody tr th:only-of-type {\n",
       "        vertical-align: middle;\n",
       "    }\n",
       "\n",
       "    .dataframe tbody tr th {\n",
       "        vertical-align: top;\n",
       "    }\n",
       "\n",
       "    .dataframe thead th {\n",
       "        text-align: right;\n",
       "    }\n",
       "</style>\n",
       "<table border=\"1\" class=\"dataframe\">\n",
       "  <thead>\n",
       "    <tr style=\"text-align: right;\">\n",
       "      <th></th>\n",
       "      <th>id</th>\n",
       "      <th>Response</th>\n",
       "    </tr>\n",
       "  </thead>\n",
       "  <tbody>\n",
       "    <tr>\n",
       "      <th>0</th>\n",
       "      <td>3116945</td>\n",
       "      <td>p</td>\n",
       "    </tr>\n",
       "    <tr>\n",
       "      <th>1</th>\n",
       "      <td>3116946</td>\n",
       "      <td>p</td>\n",
       "    </tr>\n",
       "    <tr>\n",
       "      <th>2</th>\n",
       "      <td>3116947</td>\n",
       "      <td>p</td>\n",
       "    </tr>\n",
       "    <tr>\n",
       "      <th>3</th>\n",
       "      <td>3116948</td>\n",
       "      <td>p</td>\n",
       "    </tr>\n",
       "    <tr>\n",
       "      <th>4</th>\n",
       "      <td>3116949</td>\n",
       "      <td>e</td>\n",
       "    </tr>\n",
       "    <tr>\n",
       "      <th>...</th>\n",
       "      <td>...</td>\n",
       "      <td>...</td>\n",
       "    </tr>\n",
       "    <tr>\n",
       "      <th>2077959</th>\n",
       "      <td>5194904</td>\n",
       "      <td>e</td>\n",
       "    </tr>\n",
       "    <tr>\n",
       "      <th>2077960</th>\n",
       "      <td>5194905</td>\n",
       "      <td>p</td>\n",
       "    </tr>\n",
       "    <tr>\n",
       "      <th>2077961</th>\n",
       "      <td>5194906</td>\n",
       "      <td>e</td>\n",
       "    </tr>\n",
       "    <tr>\n",
       "      <th>2077962</th>\n",
       "      <td>5194907</td>\n",
       "      <td>e</td>\n",
       "    </tr>\n",
       "    <tr>\n",
       "      <th>2077963</th>\n",
       "      <td>5194908</td>\n",
       "      <td>p</td>\n",
       "    </tr>\n",
       "  </tbody>\n",
       "</table>\n",
       "<p>2077964 rows × 2 columns</p>\n",
       "</div>"
      ],
      "text/plain": [
       "              id Response\n",
       "0        3116945        p\n",
       "1        3116946        p\n",
       "2        3116947        p\n",
       "3        3116948        p\n",
       "4        3116949        e\n",
       "...          ...      ...\n",
       "2077959  5194904        e\n",
       "2077960  5194905        p\n",
       "2077961  5194906        e\n",
       "2077962  5194907        e\n",
       "2077963  5194908        p\n",
       "\n",
       "[2077964 rows x 2 columns]"
      ]
     },
     "execution_count": 32,
     "metadata": {},
     "output_type": "execute_result"
    }
   ],
   "source": [
    "# run the model on the test set and make a submission csv with id and Target columns\n",
    "\n",
    "X_test = df_test.drop('id', axis=1)\n",
    "\n",
    "y_pred = model.predict(X_test)\n",
    "\n",
    "y_pred = np.where(y_pred == 0, 'e', 'p')\n",
    "\n",
    "submission = pd.DataFrame({'id': df_test['id'], 'Response': y_pred})\n",
    "\n",
    "submission.to_csv('submission8.csv', index=False)\n",
    "\n",
    "submission"
   ]
  }
 ],
 "metadata": {
  "kaggle": {
   "accelerator": "tpu1vmV38",
   "dataSources": [
    {
     "databundleVersionId": 9045607,
     "sourceId": 76727,
     "sourceType": "competition"
    }
   ],
   "dockerImageVersionId": 30734,
   "isGpuEnabled": false,
   "isInternetEnabled": true,
   "language": "python",
   "sourceType": "notebook"
  },
  "kernelspec": {
   "display_name": "Python 3",
   "language": "python",
   "name": "python3"
  },
  "language_info": {
   "codemirror_mode": {
    "name": "ipython",
    "version": 3
   },
   "file_extension": ".py",
   "mimetype": "text/x-python",
   "name": "python",
   "nbconvert_exporter": "python",
   "pygments_lexer": "ipython3",
   "version": "3.10.14"
  },
  "papermill": {
   "default_parameters": {},
   "duration": 2308.214464,
   "end_time": "2024-08-03T19:10:35.522163",
   "environment_variables": {},
   "exception": null,
   "input_path": "__notebook__.ipynb",
   "output_path": "__notebook__.ipynb",
   "parameters": {},
   "start_time": "2024-08-03T18:32:07.307699",
   "version": "2.6.0"
  }
 },
 "nbformat": 4,
 "nbformat_minor": 5
}
